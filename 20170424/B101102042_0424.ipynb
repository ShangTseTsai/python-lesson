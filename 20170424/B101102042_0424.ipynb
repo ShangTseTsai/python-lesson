{
 "cells": [
  {
   "cell_type": "code",
   "execution_count": 1,
   "metadata": {
    "collapsed": false
   },
   "outputs": [
    {
     "name": "stdout",
     "output_type": "stream",
     "text": [
      "class_101.txt\n",
      "/Users/Seantsai/python-lesson/20170424/class_101.txt\n",
      "climate.txt\n",
      "/Users/Seantsai/python-lesson/20170424/climate.txt\n",
      "eq_sig.txt\n",
      "/Users/Seantsai/python-lesson/20170424/eq_sig.txt\n",
      "popu.txt\n",
      "/Users/Seantsai/python-lesson/20170424/popu.txt\n",
      "s1.txt\n",
      "/Users/Seantsai/python-lesson/20170424/s1.txt\n",
      "sample.txt\n",
      "/Users/Seantsai/python-lesson/20170424/sample.txt\n",
      "school.txt\n",
      "/Users/Seantsai/python-lesson/20170424/school.txt\n",
      "sig.txt\n",
      "/Users/Seantsai/python-lesson/20170424/sig.txt\n",
      "test.txt\n",
      "/Users/Seantsai/python-lesson/20170424/test.txt\n",
      "yrborn.txt\n",
      "/Users/Seantsai/python-lesson/20170424/yrborn.txt\n",
      "zop.txt\n",
      "/Users/Seantsai/python-lesson/20170424/zop.txt\n"
     ]
    }
   ],
   "source": [
    "# Path\n",
    "\n",
    "import os.path, glob\n",
    "files = glob.glob(\"*.txt\")\n",
    "# 搜尋相對路徑下的所有*.txt 存成一個list\n",
    "# type (files)\n",
    "#files\n",
    "\n",
    "for f in files:\n",
    "    print(f)\n",
    "    print(os.path.abspath(f))"
   ]
  },
  {
   "cell_type": "code",
   "execution_count": 2,
   "metadata": {
    "collapsed": false
   },
   "outputs": [
    {
     "name": "stdout",
     "output_type": "stream",
     "text": [
      "sampletree\n",
      "['a', 'b', 'c']\n",
      "['f1', 'f2', 'f3']\n",
      "\n",
      "sampletree/a\n",
      "[]\n",
      "['f4', 'f5', 'f6']\n",
      "\n",
      "sampletree/b\n",
      "[]\n",
      "[]\n",
      "\n",
      "sampletree/c\n",
      "[]\n",
      "[]\n",
      "\n"
     ]
    }
   ],
   "source": [
    "# walk\n",
    "# dirname, subdir, files\n",
    "\n",
    "import os\n",
    "sample_tree = os.walk(\"sampletree\")\n",
    "for dirname, subdir, files in sample_tree:\n",
    "    print(dirname)# 傳回指定路徑名稱的上層完整路徑名稱\n",
    "    print(subdir)# 底下有幾個資料夾\n",
    "    print(files)# 底下有幾個檔案\n",
    "    print()"
   ]
  },
  {
   "cell_type": "code",
   "execution_count": 3,
   "metadata": {
    "collapsed": false
   },
   "outputs": [
    {
     "name": "stdout",
     "output_type": "stream",
     "text": [
      "fp <class '_io.TextIOWrapper'>\n",
      "The Zen of Python\n",
      "Zen 1: Beautiful is better than ugly.\n",
      "Zen 2: Explicit is better than implicit.\n",
      "Zen 3: Simple is better than complex.\n",
      "Zen 4: Complex is better than complicated.\n",
      "Zen 5: Flat is better than nested.\n",
      "Zen 6: Sparse is better than dense.\n",
      "Zen 7: Readability counts.\n",
      "Zen 8: Special cases aren't special enough to break the rules.\n",
      "Zen 9: Although practicality beats purity.\n",
      "Zen 10: Errors should never pass silently.\n",
      "Zen 11: Unless explicitly silenced.\n",
      "Zen 12: In the face of ambiguity, refuse the temptation to guess.\n",
      "Zen 13: There should be one-- and preferably only one --obvious way to do it.\n",
      "Zen 14: Although that way may not be obvious at first unless you're Dutch.\n",
      "Zen 15: Now is better than never.\n",
      "Zen 16: Although never is often better than *right* now.\n",
      "Zen 17: If the implementation is hard to explain, it's a bad idea.\n",
      "Zen 18: If the implementation is easy to explain, it may be a good idea.\n",
      "Zen 19: Namespaces are one honking great idea -- let's do more of those!\n",
      "Namespaces are one honking great idea -- let's do more of those!\n",
      "\n",
      "<class 'str'>\n"
     ]
    }
   ],
   "source": [
    "# _*_ coding: utf-8 _*_\n",
    "# 程式 8-1.py (Python 3 version)\n",
    "\n",
    "fp = open(\"zop.txt\", \"r\") #rwa\n",
    "# open(\"檔名\", \"開啟方式\")\n",
    "# 開啟方式 r讀取 w複寫入 a附加\n",
    "print(\"fp\", type(fp))\n",
    "\n",
    "zops = fp.readlines()\n",
    "# readlines()一行一行讀\n",
    "fp.close()\n",
    "#記得要關檔\n",
    "\n",
    "i=1\n",
    "print(\"The Zen of Python\")\n",
    "for zen in zops:\n",
    "    print(\"Zen {}: {}\".format(i, zen),end=\"\")\n",
    "    i += 1\n",
    "\n",
    "print(zen)\n",
    "print(type(zen))"
   ]
  },
  {
   "cell_type": "code",
   "execution_count": 4,
   "metadata": {
    "collapsed": false
   },
   "outputs": [
    {
     "name": "stdout",
     "output_type": "stream",
     "text": [
      " 0:淡水    \t 1:鞍部    \t 2:臺北    \t 3:竹子湖   \t 4:基隆    \t\n",
      " 5:彭佳嶼   \t 6:花蓮    \t 7:蘇澳    \t 8:宜蘭    \t 9:東吉島   \t\n",
      "10:澎湖    \t11:臺南    \t12:高雄    \t13:嘉義    \t14:臺中    \t\n",
      "15:阿里山   \t16:大武    \t17:玉山    \t18:新竹    \t19:恆春    \t\n",
      "20:成功    \t21:蘭嶼    \t22:日月潭   \t23:臺東    \t24:梧棲    \t\n",
      "\n",
      "請輸入你要查詢平均溫度的地區：(-1結束)2\n",
      "顯示區域: 臺北\n",
      "---------------------\n",
      " 1月均溫:16.1度\n",
      " 2月均溫:16.5度\n",
      " 3月均溫:18.5度\n",
      " 4月均溫:21.9度\n",
      " 5月均溫:25.2度\n",
      " 6月均溫:27.7度\n",
      " 7月均溫:29.6度\n",
      " 8月均溫:29.2度\n",
      " 9月均溫:27.4度\n",
      "10月均溫:24.5度\n",
      "11月均溫:21.5度\n",
      "12月均溫:17.9度\n",
      "本地區年均溫為23度\n",
      "---------------------\n",
      "請按Enter鍵回主選單\n",
      " 0:淡水    \t 1:鞍部    \t 2:臺北    \t 3:竹子湖   \t 4:基隆    \t\n",
      " 5:彭佳嶼   \t 6:花蓮    \t 7:蘇澳    \t 8:宜蘭    \t 9:東吉島   \t\n",
      "10:澎湖    \t11:臺南    \t12:高雄    \t13:嘉義    \t14:臺中    \t\n",
      "15:阿里山   \t16:大武    \t17:玉山    \t18:新竹    \t19:恆春    \t\n",
      "20:成功    \t21:蘭嶼    \t22:日月潭   \t23:臺東    \t24:梧棲    \t\n",
      "\n",
      "請輸入你要查詢平均溫度的地區：(-1結束)-1\n"
     ]
    }
   ],
   "source": [
    "# _*_ coding: utf-8 _*_\n",
    "# 程式 8-6.py (Python 3 version)\n",
    "\n",
    "def disp_area():\n",
    "    i = 0\n",
    "    for a in climate_data:\n",
    "        print(\"{:>2}:{:<6}\\t\".format(i,a[0]), end=\"\")\n",
    "        i += 1\n",
    "        if not (i % 5): print()\n",
    "    print()\n",
    "\n",
    "def disp_temp(data):\n",
    "    print(\"顯示區域:\", data[0])\n",
    "    print(\"---------------------\")\n",
    "    for i in range(1,13):\n",
    "        print(\"{:>2}月均溫:{:>.1f}度\".format(i, float(data[i])))\n",
    "    print(\"本地區年均溫為{}度\".format(data[13]))\n",
    "    print(\"---------------------\")\n",
    "\n",
    "target_file = 'climate.txt'\n",
    "with open(target_file, 'r', encoding='utf-8') as fp:\n",
    "    raw_data = fp.readlines()\n",
    "# 中文編碼encoding='utf-8'\n",
    "    \n",
    "climate_data=[]\n",
    "for item in raw_data:\n",
    "    climate_data.append(item.rstrip('\\n').split('\\t'))\n",
    "# \\t 用tab\n",
    "\n",
    "\n",
    "while True:\n",
    "    disp_area()\n",
    "    area = int(input(\"請輸入你要查詢平均溫度的地區：(-1結束)\"))\n",
    "    if area == -1: break\n",
    "    disp_temp(climate_data[area])\n",
    "    x = input(\"請按Enter鍵回主選單\")"
   ]
  },
  {
   "cell_type": "code",
   "execution_count": 5,
   "metadata": {
    "collapsed": false
   },
   "outputs": [
    {
     "name": "stdout",
     "output_type": "stream",
     "text": [
      "過去7天全球發生重大的地震資訊：\n",
      "地點:230km SE of Sarangani, Philippines\n",
      "震度:6.5\n",
      "時間:2016-01-12 00:38:07\n",
      "地點:32km NW of Fairview, Oklahoma\n",
      "震度:4.8\n",
      "時間:2016-01-07 12:27:58\n",
      "地點:4km NNW of Banning, California\n",
      "震度:4.39\n",
      "時間:2016-01-06 22:42:34\n"
     ]
    }
   ],
   "source": [
    "#讀jason檔\n",
    "# _*_ coding: utf-8 _*_\n",
    "# 程式 8-7.py (Python 3 version)\n",
    "# https://jsonformatter.curiousconcept.com/\n",
    "\n",
    "import json, datetime\n",
    "\n",
    "fp = open('earthquake.json','r')\n",
    "earthquakes = json.load(fp)\n",
    "fp.close()\n",
    "\n",
    "print(\"過去7天全球發生重大的地震資訊：\")\n",
    "for x in earthquakes['features']:\n",
    "    print(\"地點:{}\".format(x['properties']['place']))\n",
    "    print(\"震度:{}\".format(x['properties']['mag']))\n",
    "    et = float(x['properties']['time']) /1000.0\n",
    "    d=datetime.datetime.fromtimestamp(et).strftime('%Y-%m-%d %H:%M:%S')\n",
    "    print(\"時間:{}\".format(d))"
   ]
  },
  {
   "cell_type": "code",
   "execution_count": null,
   "metadata": {
    "collapsed": true
   },
   "outputs": [],
   "source": []
  }
 ],
 "metadata": {
  "anaconda-cloud": {},
  "kernelspec": {
   "display_name": "Python 3",
   "language": "python",
   "name": "python3"
  },
  "language_info": {
   "codemirror_mode": {
    "name": "ipython",
    "version": 3
   },
   "file_extension": ".py",
   "mimetype": "text/x-python",
   "name": "python",
   "nbconvert_exporter": "python",
   "pygments_lexer": "ipython3",
   "version": "3.6.0"
  }
 },
 "nbformat": 4,
 "nbformat_minor": 1
}
