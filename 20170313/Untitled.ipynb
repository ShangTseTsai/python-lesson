{
 "cells": [
  {
   "cell_type": "code",
   "execution_count": 2,
   "metadata": {
    "collapsed": false
   },
   "outputs": [
    {
     "name": "stdout",
     "output_type": "stream",
     "text": [
      "數字？5\n",
      "猜對了！\n"
     ]
    }
   ],
   "source": [
    "a = input(\"數字？\")\n",
    "if int(a) == 5:\n",
    "    print (\"猜對了！\")\n",
    "else:\n",
    "    print (\"再猜一次XD\")"
   ]
  },
  {
   "cell_type": "code",
   "execution_count": 1,
   "metadata": {
    "collapsed": false
   },
   "outputs": [
    {
     "name": "stdout",
     "output_type": "stream",
     "text": [
      "God Tsai No.1\n"
     ]
    }
   ],
   "source": [
    "worship = \"God Tsai No.1\"\n",
    "print (worship)"
   ]
  },
  {
   "cell_type": "code",
   "execution_count": 9,
   "metadata": {
    "collapsed": false
   },
   "outputs": [
    {
     "name": "stdout",
     "output_type": "stream",
     "text": [
      "你的名字？許鈞傑\n",
      "恭迎許導，許導唯一真神！！！\n"
     ]
    }
   ],
   "source": [
    "a = input(\"你的名字？\")\n",
    "b = a[0]\n",
    "if a == \"許鈞傑\":\n",
    "    print (\"恭迎許導，許導唯一真神！！！\")\n",
    "else:\n",
    "    print (b +\"導好！\")"
   ]
  },
  {
   "cell_type": "code",
   "execution_count": null,
   "metadata": {
    "collapsed": true
   },
   "outputs": [],
   "source": []
  }
 ],
 "metadata": {
  "kernelspec": {
   "display_name": "Python 3",
   "language": "python",
   "name": "python3"
  },
  "language_info": {
   "codemirror_mode": {
    "name": "ipython",
    "version": 3
   },
   "file_extension": ".py",
   "mimetype": "text/x-python",
   "name": "python",
   "nbconvert_exporter": "python",
   "pygments_lexer": "ipython3",
   "version": "3.6.0"
  }
 },
 "nbformat": 4,
 "nbformat_minor": 2
}
