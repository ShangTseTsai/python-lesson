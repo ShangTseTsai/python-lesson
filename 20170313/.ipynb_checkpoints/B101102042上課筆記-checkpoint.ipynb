{
 "cells": [
  {
   "cell_type": "markdown",
   "metadata": {},
   "source": [
    "# 20170313上課內容"
   ]
  },
  {
   "cell_type": "code",
   "execution_count": 1,
   "metadata": {
    "collapsed": false
   },
   "outputs": [
    {
     "data": {
      "text/plain": [
       "512.214992545"
      ]
     },
     "execution_count": 1,
     "metadata": {},
     "output_type": "execute_result"
    }
   ],
   "source": [
    "9 + 5*100.642998509"
   ]
  },
  {
   "cell_type": "code",
   "execution_count": 2,
   "metadata": {
    "collapsed": false
   },
   "outputs": [
    {
     "data": {
      "text/plain": [
       "8"
      ]
     },
     "execution_count": 2,
     "metadata": {},
     "output_type": "execute_result"
    }
   ],
   "source": [
    "(1 + 3)*2"
   ]
  },
  {
   "cell_type": "markdown",
   "metadata": {},
   "source": [
    "## Hello world的10種方法"
   ]
  },
  {
   "cell_type": "code",
   "execution_count": 4,
   "metadata": {
    "collapsed": false
   },
   "outputs": [
    {
     "data": {
      "text/plain": [
       "'hello world'"
      ]
     },
     "execution_count": 4,
     "metadata": {},
     "output_type": "execute_result"
    }
   ],
   "source": [
    "\"hello world\"\n",
    "#string"
   ]
  },
  {
   "cell_type": "code",
   "execution_count": 8,
   "metadata": {
    "collapsed": false
   },
   "outputs": [
    {
     "name": "stdout",
     "output_type": "stream",
     "text": [
      "hello world\n",
      "helloworld\n",
      "hellohelloworld\n"
     ]
    }
   ],
   "source": [
    "a = \"hello\"\n",
    "b = \"world\"\n",
    "print (a, b)\n",
    "print (a + b)\n",
    "#print (a*b):字串不能相乘，但是可以double(字串*數字)\n",
    "print (a*2 + b)"
   ]
  },
  {
   "cell_type": "code",
   "execution_count": 2,
   "metadata": {
    "collapsed": false
   },
   "outputs": [
    {
     "name": "stdout",
     "output_type": "stream",
     "text": [
      "請輸入你的手機：ASUS\n",
      "My phone is Desire eye; Your phone is ASUS\n"
     ]
    }
   ],
   "source": [
    "#What's your phone?\n",
    "J_phone = \"Desire eye\"\n",
    "S_phone = input (\"請輸入你的手機：\")\n",
    "print (\"My phone is \" + J_phone + \"; Your phone is \" +  S_phone)"
   ]
  },
  {
   "cell_type": "code",
   "execution_count": 3,
   "metadata": {
    "collapsed": false
   },
   "outputs": [
    {
     "name": "stdout",
     "output_type": "stream",
     "text": [
      "Jim's Apple pen\n",
      "A\n"
     ]
    }
   ],
   "source": [
    "#Apple pen\n",
    "#String? List?\n",
    "c = 'Jim\\'s Apple pen'\n",
    "print (c)\n",
    "print (c[6])\n",
    "#跳脫字元不算，空格算。第一個編號0。"
   ]
  },
  {
   "cell_type": "code",
   "execution_count": 7,
   "metadata": {
    "collapsed": false
   },
   "outputs": [
    {
     "name": "stdout",
     "output_type": "stream",
     "text": [
      "0 J\n",
      "1 i\n",
      "2 m\n",
      "3 '\n",
      "4 s\n",
      "5  \n",
      "6 A\n",
      "7 p\n",
      "8 p\n",
      "9 l\n",
      "10 e\n",
      "11  \n",
      "12 p\n",
      "13 e\n",
      "14 n\n",
      "15  \n",
      "16 吉\n",
      "17 姆\n",
      "18 的\n",
      "19 蘋\n",
      "20 果\n",
      "21 筆\n"
     ]
    }
   ],
   "source": [
    "c = \"Jim\\'s Apple pen 吉姆的蘋果筆\"\n",
    "n = 0\n",
    "for i in c:\n",
    "    print (n, i)\n",
    "    n +=1"
   ]
  },
  {
   "cell_type": "code",
   "execution_count": 8,
   "metadata": {
    "collapsed": false
   },
   "outputs": [
    {
     "name": "stdout",
     "output_type": "stream",
     "text": [
      "10.1415926\n"
     ]
    }
   ],
   "source": [
    "#python裡面的變數不需要先指定型態\n",
    "i = 7\n",
    "#integer\n",
    "f = 3.1415926\n",
    "#float\n",
    "b = True\n",
    "#boolen True = 1\n",
    "\n",
    "print (i + f*b)"
   ]
  },
  {
   "cell_type": "code",
   "execution_count": 12,
   "metadata": {
    "collapsed": false
   },
   "outputs": [
    {
     "name": "stdout",
     "output_type": "stream",
     "text": [
      "我有1枝蘋果筆\n"
     ]
    }
   ],
   "source": [
    "a = \"我有\"\n",
    "b = 1\n",
    "c = \"枝蘋果筆\"\n",
    "print ( a + str(b) + c )\n",
    "#同類才能相加，加str()強制轉成string"
   ]
  },
  {
   "cell_type": "code",
   "execution_count": 5,
   "metadata": {
    "collapsed": false
   },
   "outputs": [
    {
     "name": "stdout",
     "output_type": "stream",
     "text": [
      "False\n"
     ]
    }
   ],
   "source": [
    "d= 3 == 2\n",
    "print (d)"
   ]
  },
  {
   "cell_type": "code",
   "execution_count": 7,
   "metadata": {
    "collapsed": false
   },
   "outputs": [
    {
     "name": "stdout",
     "output_type": "stream",
     "text": [
      "True False False\n"
     ]
    }
   ],
   "source": [
    "#True False and or not\n",
    "a = True and True\n",
    "b = True and False\n",
    "c = False and False\n",
    "print (a, b, c)"
   ]
  },
  {
   "cell_type": "code",
   "execution_count": 8,
   "metadata": {
    "collapsed": false
   },
   "outputs": [
    {
     "name": "stdout",
     "output_type": "stream",
     "text": [
      "True True False\n"
     ]
    }
   ],
   "source": [
    "a = True or True\n",
    "b = True or False\n",
    "c = False or False\n",
    "print (a, b, c)"
   ]
  },
  {
   "cell_type": "code",
   "execution_count": 9,
   "metadata": {
    "collapsed": false
   },
   "outputs": [
    {
     "name": "stdout",
     "output_type": "stream",
     "text": [
      "False\n"
     ]
    }
   ],
   "source": [
    "a = not True\n",
    "print (a)"
   ]
  },
  {
   "cell_type": "code",
   "execution_count": 11,
   "metadata": {
    "collapsed": false
   },
   "outputs": [
    {
     "name": "stdout",
     "output_type": "stream",
     "text": [
      "a小於或等於b\n"
     ]
    }
   ],
   "source": [
    "a, b = 10, 50\n",
    "if a > b:\n",
    "    print(\"a比b大\")\n",
    "    #前面要有4個空格\n",
    "else:\n",
    "    print(\"a小於或等於b\")"
   ]
  },
  {
   "cell_type": "code",
   "execution_count": 12,
   "metadata": {
    "collapsed": false
   },
   "outputs": [
    {
     "name": "stdout",
     "output_type": "stream",
     "text": [
      "a=100\n",
      "a>18\n"
     ]
    }
   ],
   "source": [
    "a = input(\"a=\")\n",
    "if int(a)>18:\n",
    "    print(\"a>18\")\n",
    "    #int用來把輸入字串轉成數字\n",
    "else:\n",
    "    print(\"a<=18\")"
   ]
  },
  {
   "cell_type": "code",
   "execution_count": 18,
   "metadata": {
    "collapsed": false
   },
   "outputs": [
    {
     "name": "stdout",
     "output_type": "stream",
     "text": [
      "age=60\n",
      "請記得今年去投票\n"
     ]
    }
   ],
   "source": [
    "#實作2-1\n",
    "age = int(input(\"age=\"))\n",
    "if age > 20:\n",
    "    print(\"請記得今年去投票\")\n",
    "else:\n",
    "    diff = 20 - age\n",
    "    print(\"你還差{}歲才能投票\".format(diff))"
   ]
  },
  {
   "cell_type": "code",
   "execution_count": 25,
   "metadata": {
    "collapsed": false
   },
   "outputs": [
    {
     "name": "stdout",
     "output_type": "stream",
     "text": [
      "請問你是在哪一個月份出生:3\n",
      "請問你是出生日是幾號:12\n",
      "哇!再過364天就是你的生日了!\n"
     ]
    }
   ],
   "source": [
    "#課後練習\n",
    "import datetime\n",
    "today = datetime.date.today()\n",
    "month = int(input(\"請問你是在哪一個月份出生:\"))\n",
    "day = int(input(\"請問你是出生日是幾號:\"))\n",
    "birthday = datetime.date(today.year, month, day)\n",
    "if birthday < today:\n",
    "    birthday = datetime.date(today.year+1, month, day)\n",
    "diff = birthday - today\n",
    "if diff.days == 0:\n",
    "    print(\"不會吧!今天是你的生日,祝你生日快樂!\")\n",
    "else:\n",
    "    print(\"哇!再過\" + str(diff.days) + \"天就是你的生日了!\")"
   ]
  },
  {
   "cell_type": "code",
   "execution_count": null,
   "metadata": {
    "collapsed": true
   },
   "outputs": [],
   "source": []
  }
 ],
 "metadata": {
  "kernelspec": {
   "display_name": "Python 3",
   "language": "python",
   "name": "python3"
  },
  "language_info": {
   "codemirror_mode": {
    "name": "ipython",
    "version": 3
   },
   "file_extension": ".py",
   "mimetype": "text/x-python",
   "name": "python",
   "nbconvert_exporter": "python",
   "pygments_lexer": "ipython3",
   "version": "3.6.0"
  }
 },
 "nbformat": 4,
 "nbformat_minor": 2
}
