{
 "cells": [
  {
   "cell_type": "code",
   "execution_count": 6,
   "metadata": {
    "collapsed": false
   },
   "outputs": [
    {
     "name": "stdout",
     "output_type": "stream",
     "text": [
      "你的名字？殷贊城\n",
      "殷導好！\n",
      "要加入許導教嗎？（請輸入：好 / 不要）\n",
      "幹\n",
      "殷贊城吃屎吧，你終究要加入的。\n"
     ]
    }
   ],
   "source": [
    "a = input(\"你的名字？\");\n",
    "b = a[0];\n",
    "if a == \"許鈞傑\":\n",
    "    print (\"許導好，恭迎許導蒞臨！！！\");\n",
    "if a == \"蔡尚澤\":\n",
    "    print (\"可恥！洗洗睡吧你！\");\n",
    "else:\n",
    "    print ( b + \"導好！\");\n",
    "    print (\"要加入許導教嗎？（請輸入：好 / 不要）\");\n",
    "    c = input(\"\");\n",
    "    if c == \"好\":\n",
    "        print (a + \"已經加入許導教了～\");\n",
    "    else:\n",
    "        print (a + \"吃屎吧，你終究要加入的。\");"
   ]
  },
  {
   "cell_type": "code",
   "execution_count": null,
   "metadata": {
    "collapsed": true
   },
   "outputs": [],
   "source": []
  }
 ],
 "metadata": {
  "kernelspec": {
   "display_name": "Python 3",
   "language": "python",
   "name": "python3"
  },
  "language_info": {
   "codemirror_mode": {
    "name": "ipython",
    "version": 3
   },
   "file_extension": ".py",
   "mimetype": "text/x-python",
   "name": "python",
   "nbconvert_exporter": "python",
   "pygments_lexer": "ipython3",
   "version": "3.6.0"
  }
 },
 "nbformat": 4,
 "nbformat_minor": 2
}
