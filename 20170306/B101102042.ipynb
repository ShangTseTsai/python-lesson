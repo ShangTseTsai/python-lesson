{
 "cells": [
  {
   "cell_type": "markdown",
   "metadata": {},
   "source": [
    "# Markdown用這裡寫筆記"
   ]
  },
  {
   "cell_type": "markdown",
   "metadata": {},
   "source": [
    "## 我字比較小"
   ]
  },
  {
   "cell_type": "code",
   "execution_count": 5,
   "metadata": {
    "collapsed": false
   },
   "outputs": [
    {
     "name": "stdout",
     "output_type": "stream",
     "text": [
      "Hello world\n"
     ]
    }
   ],
   "source": [
    "a = \"Hello world\"\n",
    "# 文字字串要使用引號\"或'\n",
    "print(a)"
   ]
  },
  {
   "cell_type": "code",
   "execution_count": 7,
   "metadata": {
    "collapsed": false
   },
   "outputs": [
    {
     "name": "stdout",
     "output_type": "stream",
     "text": [
      "Hello world\n"
     ]
    }
   ],
   "source": [
    "a  = \"Hello\"\n",
    "b = \"world\"\n",
    "print (a, b)\n",
    "# print 括號\n",
    "# 裡面的字串可以用,並列"
   ]
  },
  {
   "cell_type": "code",
   "execution_count": 8,
   "metadata": {
    "collapsed": false
   },
   "outputs": [
    {
     "name": "stdout",
     "output_type": "stream",
     "text": [
      "world Hello\n"
     ]
    }
   ],
   "source": [
    "a, b = b, a\n",
    "print (a, b)"
   ]
  },
  {
   "cell_type": "code",
   "execution_count": 9,
   "metadata": {
    "collapsed": false
   },
   "outputs": [
    {
     "name": "stdout",
     "output_type": "stream",
     "text": [
      "worldHello\n"
     ]
    }
   ],
   "source": [
    "print (a+b)\n",
    "# 沒有空格"
   ]
  },
  {
   "cell_type": "code",
   "execution_count": 10,
   "metadata": {
    "collapsed": false
   },
   "outputs": [
    {
     "name": "stdout",
     "output_type": "stream",
     "text": [
      "Hi\n",
      "python\n",
      "is\n",
      "sooooo\n",
      "great\n",
      "!!\n",
      "啾咪\n",
      "\n"
     ]
    }
   ],
   "source": [
    "c = \"\"\"Hi\n",
    "python\n",
    "is\n",
    "sooooo\n",
    "great\n",
    "!!\n",
    "啾咪\n",
    "\"\"\"\n",
    "# 頭尾三引號，會記錄中間的字串\n",
    "print (c)"
   ]
  },
  {
   "cell_type": "code",
   "execution_count": 16,
   "metadata": {
    "collapsed": false
   },
   "outputs": [
    {
     "name": "stdout",
     "output_type": "stream",
     "text": [
      "\n",
      "Jim's Apple Pen\n",
      "\n"
     ]
    }
   ],
   "source": [
    "d = '''\n",
    "Jim\\'s Apple Pen\n",
    "'''\n",
    "print (d)\n",
    "# 跳脫字元\\"
   ]
  },
  {
   "cell_type": "code",
   "execution_count": 20,
   "metadata": {
    "collapsed": false
   },
   "outputs": [
    {
     "name": "stdout",
     "output_type": "stream",
     "text": [
      "8.6498216\n",
      "1.2356888\n",
      "7\n",
      "1.2356888\n",
      "True\n"
     ]
    }
   ],
   "source": [
    "# Python不需要先指定變項型態\n",
    "A = 7\n",
    "B = 1.2356888\n",
    "C = True\n",
    "# True = 1，False = 0\n",
    "\n",
    "print (A*B)\n",
    "print (B*C)\n",
    "print (A, B, C, sep='\\n')\n",
    "# sep是用來分隔的\n",
    "# 用 '\\n' 換行符號"
   ]
  },
  {
   "cell_type": "code",
   "execution_count": 21,
   "metadata": {
    "collapsed": false
   },
   "outputs": [
    {
     "data": {
      "text/plain": [
       "(12, 24, '1212')"
      ]
     },
     "execution_count": 21,
     "metadata": {},
     "output_type": "execute_result"
    }
   ],
   "source": [
    "def spam():\n",
    "    eggs = 12\n",
    "    return eggs, eggs*2, str(eggs)*2\n",
    "# 定義一個方法\n",
    "spam ()\n",
    "# 呼叫他"
   ]
  },
  {
   "cell_type": "code",
   "execution_count": null,
   "metadata": {
    "collapsed": true
   },
   "outputs": [],
   "source": []
  }
 ],
 "metadata": {
  "kernelspec": {
   "display_name": "Python 3",
   "language": "python",
   "name": "python3"
  },
  "language_info": {
   "codemirror_mode": {
    "name": "ipython",
    "version": 3
   },
   "file_extension": ".py",
   "mimetype": "text/x-python",
   "name": "python",
   "nbconvert_exporter": "python",
   "pygments_lexer": "ipython3",
   "version": "3.6.0"
  }
 },
 "nbformat": 4,
 "nbformat_minor": 2
}
