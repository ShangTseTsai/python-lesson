{
 "cells": [
  {
   "cell_type": "markdown",
   "metadata": {},
   "source": [
    "# 網頁資料擷取實務\n",
    "- sqlite教學\n",
    "- 爬蟲資料與資料庫存取、互動選單設計\n",
    "- 中文斷字"
   ]
  },
  {
   "cell_type": "markdown",
   "metadata": {},
   "source": [
    "## sqlite 相關應用"
   ]
  },
  {
   "cell_type": "code",
   "execution_count": 1,
   "metadata": {
    "collapsed": false
   },
   "outputs": [],
   "source": [
    "#編輯sqlite檔案  輸入\n",
    "#安裝好firefox\n",
    "#新增.sqlite\n",
    "\n",
    "import sqlite3\n",
    "conn = sqlite3.connect('scores.sqlite')#連接\n",
    "conn.execute('insert into student values(6,\"Sean\");')#執行sql語法\n",
    "conn.commit()#執行動作\n",
    "conn.close()#關閉\n"
   ]
  },
  {
   "cell_type": "code",
   "execution_count": 2,
   "metadata": {
    "collapsed": false
   },
   "outputs": [
    {
     "name": "stdout",
     "output_type": "stream",
     "text": [
      "No 2:Sean\n",
      "No 3:暉鈞\n",
      "No 4:Emily\n",
      "No 6:Sean\n"
     ]
    }
   ],
   "source": [
    "#編輯sqlite檔案  輸出\n",
    "import sqlite3\n",
    "conn = sqlite3.connect('scores.sqlite')#連接\n",
    "cursor = conn.execute('SELECT * FROM student;')#執行sql語法\n",
    "\n",
    "#cursor是甚麼? 怎麼看?\n",
    "#cursor.fetchall()\n",
    "\n",
    "for row in cursor:\n",
    "    print('No {}:{}'.format(row[0],row[1]))\n",
    "conn.close()\n"
   ]
  },
  {
   "cell_type": "code",
   "execution_count": 4,
   "metadata": {
    "collapsed": false
   },
   "outputs": [
    {
     "name": "stdout",
     "output_type": "stream",
     "text": [
      "學生資料編輯\n",
      "------------\n",
      "1.新增\n",
      "2.編輯\n",
      "3.刪除\n",
      "4.顯示所有學生\n",
      "0.結束\n",
      "------------\n",
      "請輸入您的選擇:1\n",
      "請輸入學生座號(-1停止輸入):-1\n",
      "請按Enter鍵回主選單\n",
      "學生資料編輯\n",
      "------------\n",
      "1.新增\n",
      "2.編輯\n",
      "3.刪除\n",
      "4.顯示所有學生\n",
      "0.結束\n",
      "------------\n",
      "請輸入您的選擇:0\n"
     ]
    }
   ],
   "source": [
    "### 資料庫應用程式，輸入輸出刪除修改\n",
    "\n",
    "import sqlite3\n",
    "\n",
    "conn = sqlite3.connect('scores.sqlite')\n",
    "\n",
    "def disp_menu():\n",
    "    print(\"學生資料編輯\")\n",
    "    print(\"------------\")\n",
    "    print(\"1.新增\")\n",
    "    print(\"2.編輯\")\n",
    "    print(\"3.刪除\")\n",
    "    print(\"4.顯示所有學生\")\n",
    "    print(\"0.結束\")\n",
    "    print(\"------------\")\n",
    "\n",
    "#新增insert\n",
    "def append_data():\n",
    "    while True:\n",
    "        no = int(input(\"請輸入學生座號(-1停止輸入):\"))\n",
    "        if no == -1: break\n",
    "        name = input(\"請輸入學生姓名:\")\n",
    "        sqlstr = \"select * from student where stdno={};\".format(no)\n",
    "        cursor = conn.execute(sqlstr)\n",
    "        if len(cursor.fetchall()) > 0:\n",
    "            print(\"您輸入的座號已經有資料了\")\n",
    "        else:\n",
    "            sqlstr = \"insert into student values({},'{}');\".format(no,name)\n",
    "            conn.execute(sqlstr)\n",
    "            conn.commit()\n",
    "\n",
    "#編輯update\n",
    "def edit_data():\n",
    "    no = input(\"請輸入要編輯的學生座號:\")\n",
    "    sqlstr = \"select * from student where stdno={};\".format(no)\n",
    "    cursor = conn.execute(sqlstr)\n",
    "    rows = cursor.fetchall()\n",
    "    if len(rows) > 0:\n",
    "        print(\"目前的學生姓名:\",rows[0][1])\n",
    "        name = input(\"請輸入學生姓名：\")\n",
    "        sqlstr = \"update student set name='{}' where stdno={};\".format(name, no)\n",
    "        conn.execute(sqlstr)\n",
    "        conn.commit()\n",
    "    else:\n",
    "        print(\"找不到要編輯的學生座號\")\n",
    "\n",
    "#刪除delete\n",
    "def del_data():\n",
    "    no = input(\"請輸入要刪除的學生座號:\")\n",
    "    sqlstr = \"select * from student where stdno={};\".format(no)\n",
    "    cursor = conn.execute(sqlstr)\n",
    "    rows = cursor.fetchall()\n",
    "    if len(rows) > 0:\n",
    "        print(\"你目前要刪除的是座號{}的{}\".format(rows[0][0], rows[0][1]))\n",
    "        answer = input(\"確定要刪除嗎？(y/n)\")\n",
    "        if answer == 'y' or answer == 'Y':\n",
    "            sqlstr = \"delete from student where stdno={};\".format(no)\n",
    "            conn.execute(sqlstr)\n",
    "            conn.commit()\n",
    "            print(\"已刪除指定的學生...\")\n",
    "    else:\n",
    "        print(\"找不到要刪除的學生\")\n",
    "\n",
    "#呈現\n",
    "def disp_data():\n",
    "    cursor = conn.execute('select * from student;')\n",
    "    for row in cursor:\n",
    "        print(\"No {}: {}\".format(row[0],row[1]))\n",
    "\n",
    "\n",
    "\n",
    "while True:\n",
    "    disp_menu()\n",
    "    choice = int(input(\"請輸入您的選擇:\"))\n",
    "    if choice == 0 : break\n",
    "        \n",
    "    if choice == 1: \n",
    "        append_data()\n",
    "    elif choice == 2:\n",
    "        edit_data()\n",
    "    elif choice == 3:\n",
    "        del_data()\n",
    "    elif choice == 4:\n",
    "        disp_data()\n",
    "    else: break\n",
    "    x = input(\"請按Enter鍵回主選單\")\n"
   ]
  },
  {
   "cell_type": "markdown",
   "metadata": {},
   "source": [
    "##  網頁資料爬好存到資料庫"
   ]
  },
  {
   "cell_type": "code",
   "execution_count": 5,
   "metadata": {
    "collapsed": false
   },
   "outputs": [
    {
     "name": "stdout",
     "output_type": "stream",
     "text": [
      "中油歷年油價查詢系統\n",
      "------------\n",
      "1.從網站載入最新油價\n",
      "2.顯示歷年油價資訊\n",
      "3.最近10週油價資訊\n",
      "4.油價走勢圖\n",
      "0.結束\n",
      "------------\n",
      "請輸入您的選擇:4\n"
     ]
    },
    {
     "data": {
      "image/png": "[encoded data removed]",
      "text/plain": [
       "<matplotlib.figure.Figure at 0x111a28828>"
      ]
     },
     "metadata": {},
     "output_type": "display_data"
    },
    {
     "name": "stdout",
     "output_type": "stream",
     "text": [
      "請按Enter鍵回主選單\n",
      "中油歷年油價查詢系統\n",
      "------------\n",
      "1.從網站載入最新油價\n",
      "2.顯示歷年油價資訊\n",
      "3.最近10週油價資訊\n",
      "4.油價走勢圖\n",
      "0.結束\n",
      "------------\n",
      "請輸入您的選擇:0\n"
     ]
    }
   ],
   "source": [
    "# 把網頁資料爬好存到資料庫\n",
    "# 程式 10-1.py (Python 3 version)\n",
    "\n",
    "import sqlite3\n",
    "from bs4 import BeautifulSoup\n",
    "import requests\n",
    "import numpy as np\n",
    "import matplotlib.pyplot as pt\n",
    "\n",
    "conn = sqlite3.connect('gasoline.sqlite')\n",
    "\n",
    "#選單\n",
    "def disp_menu():\n",
    "    print(\"中油歷年油價查詢系統\")\n",
    "    print(\"------------\")\n",
    "    print(\"1.從網站載入最新油價\")\n",
    "    print(\"2.顯示歷年油價資訊\")\n",
    "    print(\"3.最近10週油價資訊\")\n",
    "    print(\"4.油價走勢圖\")\n",
    "    print(\"0.結束\")\n",
    "    print(\"------------\")\n",
    "\n",
    "\n",
    "#新增(爬)資料\n",
    "def fetch_data():\n",
    "    url = 'http://new.cpc.com.tw/division/mb/oil-more4.aspx'\n",
    "\n",
    "    html = requests.get(url).text\n",
    "    sp = BeautifulSoup(html, 'html.parser')\n",
    "    data = sp.find_all('span', {'id':'Showtd'})\n",
    "    rows = data[0].find_all('tr')\n",
    "\n",
    "    prices = list()\n",
    "    for row in rows:\n",
    "        cols = row.find_all('td')\n",
    "        if len(cols[1].text) > 0:\n",
    "            item = [cols[0].text, cols[1].text, \\\n",
    "                    cols[2].text, cols[3].text]\n",
    "            prices.append(item)\n",
    "    for p in prices:\n",
    "        sqlstr = \"select * from prices where gdate='{}';\".format(p[0])\n",
    "        cursor = conn.execute(sqlstr)\n",
    "        if len(cursor.fetchall()) == 0:\n",
    "            g92 = 0 if p[1]=='' else float(p[1])\n",
    "            g95 = 0 if p[2]=='' else float(p[2])\n",
    "            g98 = 0 if p[3]=='' else float(p[3])\n",
    "            sqlstr = \"insert into prices values('{}', {}, {}, {});\". \\\n",
    "                format(p[0], g92, g95, g98)\n",
    "            print(sqlstr)\n",
    "            conn.execute(sqlstr)\n",
    "            conn.commit()\n",
    "\n",
    "#展示\n",
    "def disp_10data():\n",
    "    cursor = conn.execute('select * from prices order by gdate desc;')\n",
    "    n = 0\n",
    "    for row in cursor:\n",
    "        print(\"日期：{}，92無鉛：{}，95無鉛：{}，98無鉛：{}\". \\\n",
    "            format(row[0],row[1],row[2],row[3]))\n",
    "        n = n + 1\n",
    "        if n == 10:\n",
    "            break\n",
    "\n",
    "            \n",
    "#畫圖表\n",
    "def chart():\n",
    "    data = []\n",
    "    cursor = conn.execute('select * from prices order by gdate;')\n",
    "    for row in cursor:\n",
    "        data.append(list(row))\n",
    "    x = np.arange(0,len(data))\n",
    "    dataset = [list(), list(), list()]\n",
    "    for i in range(0, len(data)):\n",
    "        for j in range(0,3):\n",
    "            dataset[j].append(data[i][j+1])\n",
    "    w = np.array(dataset[0])\n",
    "    y = np.array(dataset[1])\n",
    "    z = np.array(dataset[2])\n",
    "    pt.ylabel(\"NTD$\")\n",
    "    pt.xlabel(\"Weeks ( {} --- {} )\".format(data[0][0], data[len(data)-1][0]))\n",
    "    pt.plot(x, w, color=\"blue\", label=\"92\")\n",
    "    pt.plot(x, y, color=\"red\", label=\"95\")\n",
    "    pt.plot(x, z, color=\"green\", label=\"98\")\n",
    "    pt.xlim(0,len(data))\n",
    "    pt.ylim(10,40)\n",
    "    pt.title(\"Gasoline Prices Trend (Taiwan)\")\n",
    "    pt.legend()\n",
    "    pt.show()\n",
    "\n",
    "    \n",
    "#SHOW資料與選項\n",
    "def disp_alldata():\n",
    "    cursor = conn.execute('select * from prices order by gdate desc;')\n",
    "    n = 0\n",
    "    for row in cursor:\n",
    "        print(\"日期：{}，92無鉛：{}，95無鉛：{}，98無鉛：{}\". \\\n",
    "            format(row[0],row[1],row[2],row[3]))\n",
    "        n = n + 1\n",
    "        if n == 20:\n",
    "            x = input(\"請按Enter鍵繼續...(Q:回主選單)\")\n",
    "            if x == 'Q' or x == 'q': break\n",
    "            n = 0\n",
    "\n",
    "\n",
    "\n",
    "while True:\n",
    "    disp_menu()\n",
    "    choice = int(input(\"請輸入您的選擇:\"))\n",
    "    if choice == 0 : break\n",
    "    if choice == 1: \n",
    "        fetch_data()\n",
    "    elif choice == 2:\n",
    "        disp_alldata()\n",
    "    elif choice == 3:\n",
    "        disp_10data()\n",
    "    elif choice == 4:\n",
    "        chart()\n",
    "    else: break\n",
    "    x = input(\"請按Enter鍵回主選單\")\n"
   ]
  },
  {
   "cell_type": "markdown",
   "metadata": {},
   "source": [
    "## 中文斷詞"
   ]
  },
  {
   "cell_type": "code",
   "execution_count": 6,
   "metadata": {
    "collapsed": false
   },
   "outputs": [
    {
     "name": "stdout",
     "output_type": "stream",
     "text": [
      "迷姦女房客 手法卑劣《蘋果》實測 身家職涯全都露性侵犯鋸鐐脫逃 晃24小時才逮回惡老闆買磨平胎 害死員工和解 豬哥亮病榻致電余天狼師傳聞再添一樁  高中女Dcard控訴遭性侵留宿借錢卻遭背叛 志工心痛小開駕法拉利撞車 慘 修理要百萬BMW飆國道自撞 2人拋飛亡勞保高薪低報 2萬企業被盯胡椒鹽摻工業鎂 竟判無罪醋男手機定位揪劈腿女遺贈稅新制今上路 可用保單節稅油價預估表沈玉琳帶頭公然談房事 爆老婆料芽芽森77了！陳抗多 蔡脫口：我聽到後就不用大聲了逆轉 擊斃拒捕男 警遭起訴預祝520 睽違17年 台股站上萬點「愛戀妄想」纏女 男須住院監護2年散戶不跟進 這次萬點好冷蘋論：先姓資 再姓社今天我最美辣蘋果：總統選舉餘恨（余艾苔）下月12日起 每包菸漲20元注長照電子腳鐐功能不彰 11嫌脫逃國軍准男官兵肥胖 要女性纖瘦趙少康傳真：WHA的苦肉計（趙少康）電子腳鐐銬不住  性侵犯搭船脫逃「為保護民眾 還是會開槍」全球最強美顏錄影手機SUGAR S9！鑲寶石6千萬高畫質 送媽最感心\n"
     ]
    }
   ],
   "source": [
    "# _*_ coding: utf-8 _*_\n",
    "# 蒐集新聞&中文\n",
    "\n",
    "import requests\n",
    "from bs4 import BeautifulSoup\n",
    "\n",
    "url = 'http://www.appledaily.com.tw/appledaily/hotdaily/headline'\n",
    "\n",
    "news_page = requests.get(url)\n",
    "news = BeautifulSoup(news_page.text, 'html.parser')\n",
    "\n",
    "news_title = news.find_all('div', {'class': 'aht_title'})\n",
    "\n",
    "news_title[0].find_all('a')[0].text\n",
    "\n",
    "headlines = ''\n",
    "for t in news_title:\n",
    "    title = t.find_all('a')[0]\n",
    "    headlines += title.text\n",
    "\n",
    "print(headlines)\n",
    "\n"
   ]
  },
  {
   "cell_type": "code",
   "execution_count": 37,
   "metadata": {
    "collapsed": false
   },
   "outputs": [
    {
     "name": "stdout",
     "output_type": "stream",
     "text": [
      "他來\n",
      "到\n",
      "台北市\n",
      "臺北醫學大學\n",
      "上\n",
      "鈞哥\n",
      "的\n",
      "Python\n",
      "程式設計\n",
      "課程\n",
      "，\n",
      "老師\n",
      "非常\n",
      "感動\n",
      "，\n",
      "有\n",
      "滿滿\n",
      "的\n",
      "大平台\n"
     ]
    }
   ],
   "source": [
    "#jieba功能說明\n",
    "#pip install jieba 安裝 自訂字典\n",
    "\n",
    "import jieba\n",
    "jieba.load_userdict(\"userdict.txt\")#載入自定義的字典\n",
    "words = jieba.cut(\"他來到台北市臺北醫學大學上鈞哥的Python程式設計課程，老師非常感動，有滿滿的大平台\")\n",
    "\n",
    "\n",
    "for i in words:\n",
    "    print(i)\n",
    "    \n",
    "#有時候無法用自定義字典，就可以調整預設字典\n",
    "#範例：jieba.suggest_freq(('中', '将'), True)"
   ]
  },
  {
   "cell_type": "markdown",
   "metadata": {},
   "source": [
    "其他jieba功能請參考\n",
    "https://github.com/fxsjy/jieba\n",
    "安裝：pip install jieba"
   ]
  },
  {
   "cell_type": "code",
   "execution_count": 36,
   "metadata": {
    "collapsed": false
   },
   "outputs": [
    {
     "name": "stdout",
     "output_type": "stream",
     "text": [
      "(' ', 30)\n",
      "('：', 4)\n",
      "('2', 3)\n",
      "('男', 3)\n",
      "('！', 3)\n",
      "('蘋果', 2)\n",
      "('逃', 2)\n",
      "('再', 2)\n",
      "('女', 2)\n",
      "('了', 2)\n",
      "('我', 2)\n",
      "('「', 2)\n",
      "('」', 2)\n",
      "('年', 2)\n",
      "('萬點', 2)\n",
      "('（', 2)\n",
      "('）', 2)\n",
      "('趙少康', 2)\n",
      "('怕', 2)\n"
     ]
    }
   ],
   "source": [
    "# _*_ coding: utf-8 _*_\n",
    "# 中文段詞&排序\n",
    "\n",
    "import requests, jieba, operator\n",
    "from bs4 import BeautifulSoup\n",
    "\n",
    "url = 'http://www.appledaily.com.tw/appledaily/hotdaily/headline'\n",
    "\n",
    "news_page = requests.get(url)\n",
    "news = BeautifulSoup(news_page.text, 'html.parser')\n",
    "\n",
    "news_title = news.find_all('div', {'class': 'aht_title'})\n",
    "\n",
    "headlines = ''\n",
    "for t in news_title:\n",
    "    title = t.find_all('a')[0]\n",
    "    headlines += title.text\n",
    "\n",
    "words = jieba.cut(headlines)\n",
    "\n",
    "#看看斷的怎麼樣\n",
    "#For i in words:\n",
    "#print (i)\n",
    "\n",
    "#算頻率，篩選次數\n",
    "\n",
    "word_count = dict()\n",
    "\n",
    "for word in words:\n",
    "    if word in word_count.keys():\n",
    "        word_count[word] += 1\n",
    "    else:\n",
    "        word_count[word] = 1\n",
    "\n",
    "    sorted_wc = sorted(word_count.items(), key=operator.itemgetter(1), reverse=True)\n",
    "\n",
    "for item in sorted_wc:\n",
    "    if item[1]>1:\n",
    "        print(item)\n",
    "    else:\n",
    "        break"
   ]
  },
  {
   "cell_type": "markdown",
   "metadata": {},
   "source": [
    "# 作業\n",
    "- 尋找一篇網路的文章斷字\n",
    "- 利用jieba斷字與自定義字典功能\n",
    "- 按照字詞出現平率由大到小排列\n",
    "- 需移除標點符號\n",
    "\n",
    "''':!),.:;?]}¢'\"、。〉》」』】〕】〞︰︱︳﹐､﹒ ﹔﹕﹖﹗﹚﹜﹞！），．：；？｜｝︴︶︸︺︼︾﹀﹂﹄﹏､～￠ 々∥•‧ˇˉ─--′』」([{£¥'\"‵〈《「『【〔【（［｛￡￥〝︵︷︹︻ ︽︿﹁﹃﹙﹛﹝（｛「『-—_…'''\n",
    "\n"
   ]
  },
  {
   "cell_type": "code",
   "execution_count": 56,
   "metadata": {
    "collapsed": false
   },
   "outputs": [
    {
     "name": "stdout",
     "output_type": "stream",
     "text": [
      "('有', 5)\n",
      "('觀光', 3)\n",
      "('的', 3)\n",
      "('美食', 3)\n",
      "('美國', 2)\n",
      "('簽證', 2)\n",
      "('一日', 2)\n",
      "('鐵道', 2)\n",
      "('在', 2)\n",
      "('高雄國際旅展', 2)\n",
      "('將', 2)\n",
      "('登場', 2)\n",
      "('雲朗', 2)\n",
      "('E', 2)\n",
      "('線', 2)\n",
      "('好康', 2)\n",
      "('2017', 2)\n",
      "('年', 2)\n",
      "('日', 2)\n",
      "('黃', 2)\n",
      "('老店', 2)\n",
      "('小吃', 2)\n",
      "('吃', 2)\n"
     ]
    }
   ],
   "source": [
    "# 單篇新聞範例參考(未完成)\n",
    "\n",
    "import requests, jieba, operator\n",
    "from bs4 import BeautifulSoup\n",
    "\n",
    "#尋找一篇網路的文章\n",
    "url = 'https://tw.travel.yahoo.com/'\n",
    "\n",
    "news_page = requests.get(url)\n",
    "news = BeautifulSoup(news_page.text, 'html.parser')\n",
    "contentAll = news.find_all(\"div\",{\"item_topic\"})\n",
    "#html的目的地設定完成\n",
    "\n",
    "contentWord =\"\"\n",
    "for t in contentAll:\n",
    "    contentWord+=t.text\n",
    "\n",
    "# 自創字典檔\n",
    "jieba.load_userdict(\"userdict2.txt\")\n",
    "jieba.suggest_freq('高雄國際旅展', True)\n",
    "jieba.suggest_freq('將', True)\n",
    "jieba.suggest_freq('登場', True)\n",
    "\n",
    "#利用jieba斷字與自定義字典功能\n",
    "Words=jieba.cut(contentWord)\n",
    "\n",
    "word_count = {}\n",
    "for word in Words:\n",
    "    if word in word_count.keys():\n",
    "        word_count[word] += 1\n",
    "    else:\n",
    "        word_count[word] = 1\n",
    "sorted_wc = sorted(word_count.items(), key=operator.itemgetter(1), reverse=True)\n",
    "#operator.itemgetter會得到tuple\n",
    "#dict.get會得到list\n",
    "\n",
    "no_means = '''Ｘ~│:!),.:;?]}¢'\"、。〉》」』】〕】〞︰︱︳﹐､﹒ ﹔﹕﹖﹗﹚﹜﹞！），．：；？｜｝︴︶︸︺︼︾﹀﹂﹄﹏､～￠ 々∥•‧ˇˉ─--′』」([{£¥'\"‵〈《「『【〔【（［｛￡￥〝︵︷︹︻ ︽︿﹁﹃﹙﹛﹝（｛「『-—_…'''\n",
    "\n",
    "for item in sorted_wc:\n",
    "    if item[0] not in no_means:\n",
    "        if item[1]>1:\n",
    "            print(item)"
   ]
  },
  {
   "cell_type": "code",
   "execution_count": 40,
   "metadata": {
    "collapsed": false
   },
   "outputs": [
    {
     "name": "stdout",
     "output_type": "stream",
     "text": [
      "{'【': 4, '美國': 2, '】': 4, '簽證超': 1, '容易': 1, '！': 9, '免': 1, '簽證': 2, 'ESTA': 1, '、': 1, '商務': 1, '觀光': 3, 'Q': 1, '&': 1, 'A': 1, '懶人': 1, '包到': 1, '靜岡當': 1, '一日': 2, '鐵道': 2, '迷': 1, '「': 3, '大井川': 1, '」': 3, '沿線': 1, '秘境': 1, '散策': 1, '750': 1, '円東': 1, '京都': 1, '23': 1, '區任': 1, '你': 1, '逛': 1, 'JR': 1, '券超': 1, '便利': 1, '實用': 1, '攻略': 1, '海岸': 1, 'Ｘ': 2, '大道': 1, '藝術': 1, ' ': 7, '台東': 1, '十大': 1, '必拍': 1, '推薦': 1, '南部': 1, '也': 1, '有': 5, '老梅': 1, '石槽': 1, '絕美': 1, '奇景': 1, '季節': 1, '限定': 1, '不可': 1, '錯過': 1, '的': 3, '岡山': 1, '新風貌': 1, 'mt': 1, '紙膠': 1, '帶': 1, 'X': 1, '岡': 1, '山城': 1, '『': 1, '札幌': 1, '』': 1, '翻譯': 1, '在': 2, '別': 1, '擔心': 1, '平價享': 1, '茶道': 1, '與': 1, '和服': 1, '體驗': 1, '高雄國際旅展': 2, '將': 2, '登場': 2, '雲朗': 2, 'E': 2, '線': 2, '好康': 2, '2017': 2, '年': 2, '公主': 1, '遊輪': 1, '今': 1, '(': 2, '12': 1, ')': 2, '日': 2, '基隆港': 1, '首發': 1, '啟航': 1, '金瓜石': 1, '‧': 2, '無耳茶': 1, '壺山': 1, '。': 3, '黃': 2, '金小鎮': 1, '夜景': 1, '│': 2, '報時山': 1, '登山': 1, '步道': 1, '海天': 1, '一線': 1, '美景': 1, '金': 1, '瀑布': 1, '水': 1, '湳': 1, '洞': 1, '陰陽海': 1, '自然': 1, '奇特': 1, '景觀': 1, '板橋': 1, '45': 1, '老店': 2, '/': 1, '美食': 3, '小吃': 2, '南雅': 1, '夜市': 1, '-': 1, '眼鏡': 1, '仔豬': 1, '血湯': 1, '，': 2, '地': 1, '熟悉': 1, '老': 1, '味道': 1, '~': 2, '增加': 1, '旗艦店': 1, '24H': 1, '營業': 1, '想': 1, '吃': 2, '隨時': 1, '!': 1, '桃園': 1, '大平台': 1, 'ATT': 1, '筷食': 1, '尚明': 1, '13': 1, '開幕': 1, '葉癮': 1, '評饗': 1, '炸蛋': 1, '蔥': 1, '油餅': 1, '這不敗': 1, '排隊': 1, '神話': 1, '❤': 1, '東京': 1, '淺草': 1, '130': 1, '年天': 1, '婦羅': 1, '人氣': 1, '必': 1, '澎湃': 1, '海': 1, '老天': 1, '丼': 1}\n"
     ]
    }
   ],
   "source": [
    "print(word_count)"
   ]
  },
  {
   "cell_type": "code",
   "execution_count": null,
   "metadata": {
    "collapsed": true
   },
   "outputs": [],
   "source": []
  }
 ],
 "metadata": {
  "anaconda-cloud": {},
  "kernelspec": {
   "display_name": "Python 3",
   "language": "python",
   "name": "python3"
  },
  "language_info": {
   "codemirror_mode": {
    "name": "ipython",
    "version": 3
   },
   "file_extension": ".py",
   "mimetype": "text/x-python",
   "name": "python",
   "nbconvert_exporter": "python",
   "pygments_lexer": "ipython3",
   "version": "3.6.0"
  }
 },
 "nbformat": 4,
 "nbformat_minor": 1
}
