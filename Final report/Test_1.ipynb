{
 "cells": [
  {
   "cell_type": "code",
   "execution_count": 1,
   "metadata": {
    "collapsed": true
   },
   "outputs": [],
   "source": [
    "# 把網頁資料爬好存到資料庫\n",
    "# 程式 10-1.py (Python 3 version)\n",
    "\n",
    "import sqlite3\n",
    "from bs4 import BeautifulSoup\n",
    "import requests\n",
    "import numpy as np\n",
    "import matplotlib.pyplot as pt\n",
    "\n",
    "conn = sqlite3.connect('Test_data.sqlite')\n",
    "\n",
    "\n",
    "#選單\n",
    "def disp_menu():\n",
    "    print(\"租屋查詢系統\")\n",
    "    print(\"------------\")\n",
    "    print(\"1.從網站載入最新屋況\")\n",
    "    print(\"2.顯示歷年油價資訊\")\n",
    "    print(\"3.最近10週油價資訊\")\n",
    "    print(\"4.油價走勢圖\")\n",
    "    print(\"0.結束\")\n",
    "    print(\"------------\")\n",
    "\n",
    "\n",
    "#新增(爬)資料\n",
    "def fetch_data():\n",
    "    url = 'https://www.rakuya.com.tw/search/rent_search/index?con=eJyrVkrOLKlUsopWMlCK1VFKySwuyEkE8pVyMotLlHSUslMry_OLUkAKYkpNTYyNY0otjAwsgKSFqTlIR35SVmYeWD4IxC1OTSxKzgBxwebG1gIAtr0d2g&upd=1'\n",
    "    \n",
    "    html = requests.get(url).text\n",
    "    sp = BeautifulSoup(html, 'html.parser')\n",
    "    data = sp.find_all('div', {'class':'content type-list clearfix'})\n",
    "    rows = data[0].find_all('div':'class':'obj-title')\n",
    "\n",
    "    prices = list()\n",
    "    for row in rows:\n",
    "        cols = row.find_all('li': {'class':'obj-price'})\n",
    "        if len(cols[1].text) > 0:\n",
    "            item = [cols[0].text, cols[1].text, \\\n",
    "                    cols[2].text, cols[3].text]\n",
    "            prices.append(item)\n",
    "    for p in prices:\n",
    "        sqlstr = \"select * from prices where gdate='{}';\".format(p[0])\n",
    "        cursor = conn.execute(sqlstr)\n",
    "        if len(cursor.fetchall()) == 0:\n",
    "            g92 = 0 if p[1]=='' else float(p[1])\n",
    "            g95 = 0 if p[2]=='' else float(p[2])\n",
    "            g98 = 0 if p[3]=='' else float(p[3])\n",
    "            sqlstr = \"insert into prices values('{}', {}, {}, {});\". \\\n",
    "                format(p[0], g92, g95, g98)\n",
    "            print(sqlstr)\n",
    "            conn.execute(sqlstr)\n",
    "            conn.commit()\n",
    "\n",
    "#展示\n",
    "def disp_10data():\n",
    "    cursor = conn.execute('select * from prices order by gdate desc;')\n",
    "    n = 0\n",
    "    for row in cursor:\n",
    "        print(\"日期：{}，92無鉛：{}，95無鉛：{}，98無鉛：{}\". \\\n",
    "            format(row[0],row[1],row[2],row[3]))\n",
    "        n = n + 1\n",
    "        if n == 10:\n",
    "            break"
   ]
  },
  {
   "cell_type": "code",
   "execution_count": null,
   "metadata": {
    "collapsed": true
   },
   "outputs": [],
   "source": []
  }
 ],
 "metadata": {
  "kernelspec": {
   "display_name": "Python 3",
   "language": "python",
   "name": "python3"
  },
  "language_info": {
   "codemirror_mode": {
    "name": "ipython",
    "version": 3
   },
   "file_extension": ".py",
   "mimetype": "text/x-python",
   "name": "python",
   "nbconvert_exporter": "python",
   "pygments_lexer": "ipython3",
   "version": "3.6.0"
  }
 },
 "nbformat": 4,
 "nbformat_minor": 2
}
