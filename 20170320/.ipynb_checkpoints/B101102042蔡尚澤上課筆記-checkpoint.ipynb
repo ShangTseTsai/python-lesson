{
 "cells": [
  {
   "cell_type": "code",
   "execution_count": 1,
   "metadata": {
    "collapsed": false
   },
   "outputs": [
    {
     "name": "stdout",
     "output_type": "stream",
     "text": [
      "0\n",
      "1\n",
      "2\n",
      "3\n",
      "4\n",
      "5\n",
      "6\n",
      "7\n",
      "8\n",
      "9\n"
     ]
    }
   ],
   "source": [
    "#while it's true\n",
    "\n",
    "AA = 0\n",
    "\n",
    "while AA < 10:\n",
    "    print (AA)\n",
    "    AA = AA + 1\n",
    "# AA += 1\n",
    "    \n",
    "#while condition:\n",
    "#    expressions"
   ]
  },
  {
   "cell_type": "code",
   "execution_count": 6,
   "metadata": {
    "collapsed": false
   },
   "outputs": [
    {
     "name": "stdout",
     "output_type": "stream",
     "text": [
      "哈哈哈\n"
     ]
    }
   ],
   "source": [
    "#if you are true\n",
    "#if, < = >, !=不等於, ==等於\n",
    "x, y, z = 3, 9, 6\n",
    "if x < y > z :\n",
    "    print (\"哈哈哈\")"
   ]
  },
  {
   "cell_type": "code",
   "execution_count": 9,
   "metadata": {
    "collapsed": false
   },
   "outputs": [
    {
     "name": "stdout",
     "output_type": "stream",
     "text": [
      "x < y\n"
     ]
    }
   ],
   "source": [
    "#if, elif, else\n",
    "x, y = 3, 9\n",
    "if x <y:\n",
    "    print (\"x < y\")\n",
    "elif x == y:\n",
    "    print (\"x = y\")\n",
    "#elif其他情況，依此類推\n",
    "else:\n",
    "    print (\"x > y\")"
   ]
  },
  {
   "cell_type": "code",
   "execution_count": 22,
   "metadata": {
    "collapsed": false
   },
   "outputs": [
    {
     "name": "stdout",
     "output_type": "stream",
     "text": [
      "輸入你的年齡20\n",
      "你大於20歲，恭喜你，你已成年\n"
     ]
    }
   ],
   "source": [
    "#沒完沒了的elif\n",
    "x = int(input (\"輸入你的年齡\"))\n",
    "if x > 50:\n",
    "    print (\"你大於50歲，你是長者\")\n",
    "elif x > 30:\n",
    "    print (\"你大於30歲，你是青年\")\n",
    "elif x >= 20:\n",
    "    print (\"你大於20歲，恭喜你，你已成年\")\n",
    "else:\n",
    "    print (\"等你長大再說\")"
   ]
  },
  {
   "cell_type": "code",
   "execution_count": 26,
   "metadata": {
    "collapsed": false
   },
   "outputs": [
    {
     "name": "stdout",
     "output_type": "stream",
     "text": [
      "1\n",
      "2\n",
      "3\n",
      "4\n",
      "5\n",
      "6\n",
      "77\n",
      "88\n",
      "99\n",
      "[1, 2, 3, 4, 5, 6, 77, 88, 99]\n"
     ]
    }
   ],
   "source": [
    "# for you are True\n",
    "#for item in sequence:\n",
    "#    expressions\n",
    "ex_list = [1, 2, 3, 4, 5, 6, 77, 88, 99]\n",
    "\n",
    "for i in ex_list:\n",
    "    print (i)\n",
    "#會換行\n",
    "    \n",
    "print (ex_list)"
   ]
  },
  {
   "cell_type": "code",
   "execution_count": 30,
   "metadata": {
    "collapsed": false
   },
   "outputs": [
    {
     "name": "stdout",
     "output_type": "stream",
     "text": [
      "0\n",
      "1\n",
      "4\n",
      "9\n",
      "16\n",
      "25\n",
      "36\n",
      "49\n",
      "64\n",
      "81\n"
     ]
    }
   ],
   "source": [
    "for i in range (0, 10):\n",
    "    print (i**2)\n",
    "#含頭不含尾"
   ]
  },
  {
   "cell_type": "code",
   "execution_count": 46,
   "metadata": {
    "collapsed": false
   },
   "outputs": [
    {
     "name": "stdout",
     "output_type": "stream",
     "text": [
      "1\n",
      "2\n",
      "3\n",
      "4\n",
      "5\n",
      "5\n",
      "[1, 2, 3, 4, 5, 10]\n",
      "[1, 2, 3, 4, 10]\n",
      "[1, 2, 3, 999, 4, 10]\n",
      "[1, 2, 3, 4, 10, 999]\n",
      "999\n",
      "[2, 3, 4]\n",
      "[1, 2, 3, 4]\n"
     ]
    }
   ],
   "source": [
    "#list\n",
    "num_list = [1, 2, 3, 4, 5]\n",
    "\n",
    "#list用中括弧\n",
    "print (num_list [0])\n",
    "print (num_list [1])\n",
    "print (num_list [2])\n",
    "print (num_list [3])\n",
    "print (num_list [4])\n",
    "\n",
    "print(len (num_list))\n",
    "#有5個東西\n",
    "\n",
    "num_list.append (10)\n",
    "#追加進去\n",
    "print (num_list)\n",
    "\n",
    "num_list.remove (5)\n",
    "#移除某一個\n",
    "print (num_list)\n",
    "\n",
    "num_list.insert (3, 999)\n",
    "#在第4位加入999\n",
    "print (num_list)\n",
    "\n",
    "num_list.sort ()\n",
    "#sort根據大小排序\n",
    "print (num_list)\n",
    "print (num_list[5])\n",
    "print (num_list[1:4])\n",
    "#含頭不含尾\n",
    "print (num_list[:4])\n",
    "#從頭印"
   ]
  },
  {
   "cell_type": "code",
   "execution_count": 49,
   "metadata": {
    "collapsed": false
   },
   "outputs": [
    {
     "name": "stdout",
     "output_type": "stream",
     "text": [
      "[2, 5, 8, 11, 14]\n",
      "[2, 7, 12]\n"
     ]
    }
   ],
   "source": [
    "num_list = [1, 2, 3, 4, 5, 6, 7, 8, 9, 10, 11, 12, 13, 14, 15, 16]\n",
    "print (num_list[1::3])\n",
    "#從第2位開始，間隔3\n",
    "print (num_list[1::5])"
   ]
  },
  {
   "cell_type": "code",
   "execution_count": 50,
   "metadata": {
    "collapsed": false
   },
   "outputs": [
    {
     "name": "stdout",
     "output_type": "stream",
     "text": [
      "dog\n"
     ]
    }
   ],
   "source": [
    "animals_list = [\"cat\", \"duck\", \"dog\", \"people\"]\n",
    "print (animals_list[2])"
   ]
  },
  {
   "cell_type": "code",
   "execution_count": 55,
   "metadata": {
    "collapsed": false
   },
   "outputs": [
    {
     "name": "stdout",
     "output_type": "stream",
     "text": [
      "AAA\n",
      "BBB\n",
      "CCC\n",
      "DDD\n",
      "18\n",
      "666\n",
      "['A', 'B', 'C', 'D', 6, '6']\n"
     ]
    }
   ],
   "source": [
    "mix_list = [\"A\", \"B\", \"C\", \"D\", 6, \"6\"]\n",
    "for i in mix_list:\n",
    "    print (i*3)\n",
    "#字串重複3次，數字*3\n",
    "print (mix_list)"
   ]
  },
  {
   "cell_type": "code",
   "execution_count": 56,
   "metadata": {
    "collapsed": true
   },
   "outputs": [],
   "source": [
    "#Define the function\n",
    "def function():\n",
    "    print('This is a function')\n",
    "    a = 1 + 2\n",
    "    print(a)"
   ]
  },
  {
   "cell_type": "code",
   "execution_count": 59,
   "metadata": {
    "collapsed": false
   },
   "outputs": [
    {
     "name": "stdout",
     "output_type": "stream",
     "text": [
      "This is a function\n",
      "3\n"
     ]
    }
   ],
   "source": [
    "function ()"
   ]
  },
  {
   "cell_type": "code",
   "execution_count": 61,
   "metadata": {
    "collapsed": true
   },
   "outputs": [],
   "source": [
    "def super_print (x):\n",
    "    print (x*2)"
   ]
  },
  {
   "cell_type": "code",
   "execution_count": 63,
   "metadata": {
    "collapsed": false
   },
   "outputs": [
    {
     "name": "stdout",
     "output_type": "stream",
     "text": [
      "11110\n"
     ]
    }
   ],
   "source": [
    "super_print (5555)"
   ]
  },
  {
   "cell_type": "code",
   "execution_count": 91,
   "metadata": {
    "collapsed": false
   },
   "outputs": [],
   "source": [
    "def super_print1(x):\n",
    "    for i in x:\n",
    "        print (i)"
   ]
  },
  {
   "cell_type": "code",
   "execution_count": 92,
   "metadata": {
    "collapsed": false
   },
   "outputs": [
    {
     "name": "stdout",
     "output_type": "stream",
     "text": [
      "h\n",
      "e\n",
      "l\n",
      "l\n",
      "o\n"
     ]
    }
   ],
   "source": [
    "super_print1 (\"hello\")"
   ]
  },
  {
   "cell_type": "code",
   "execution_count": 94,
   "metadata": {
    "collapsed": false
   },
   "outputs": [],
   "source": [
    "def  multip(x,y):\n",
    "    print (str(x) + \"乘以\" + str(y) + \"等於\" + str(x*y))"
   ]
  },
  {
   "cell_type": "code",
   "execution_count": 95,
   "metadata": {
    "collapsed": false
   },
   "outputs": [
    {
     "name": "stdout",
     "output_type": "stream",
     "text": [
      "8乘以7等於56\n"
     ]
    }
   ],
   "source": [
    " multip(8,7)"
   ]
  },
  {
   "cell_type": "code",
   "execution_count": null,
   "metadata": {
    "collapsed": true
   },
   "outputs": [],
   "source": []
  }
 ],
 "metadata": {
  "kernelspec": {
   "display_name": "Python 3",
   "language": "python",
   "name": "python3"
  },
  "language_info": {
   "codemirror_mode": {
    "name": "ipython",
    "version": 3
   },
   "file_extension": ".py",
   "mimetype": "text/x-python",
   "name": "python",
   "nbconvert_exporter": "python",
   "pygments_lexer": "ipython3",
   "version": "3.6.0"
  }
 },
 "nbformat": 4,
 "nbformat_minor": 2
}
