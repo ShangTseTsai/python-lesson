{
 "cells": [
  {
   "cell_type": "markdown",
   "metadata": {},
   "source": [
    "# [Week08] tuple, list, disk"
   ]
  },
  {
   "cell_type": "code",
   "execution_count": 1,
   "metadata": {
    "collapsed": false
   },
   "outputs": [],
   "source": [
    "#16 tuple\n",
    "\n",
    "#1是list\n",
    "l = [1, 2, 3]\n",
    "\n",
    "#t是tuple\n",
    "t = (1, 2, 3)\n",
    "anthor_t = 1, 2, 3\n",
    "\n",
    "#如果是{}是字典disk或集合set"
   ]
  },
  {
   "cell_type": "code",
   "execution_count": 2,
   "metadata": {
    "collapsed": false
   },
   "outputs": [
    {
     "data": {
      "text/plain": [
       "tuple"
      ]
     },
     "execution_count": 2,
     "metadata": {},
     "output_type": "execute_result"
    }
   ],
   "source": [
    "anthor_t\n",
    "type(anthor_t)"
   ]
  },
  {
   "cell_type": "code",
   "execution_count": 3,
   "metadata": {
    "collapsed": false
   },
   "outputs": [
    {
     "data": {
      "text/plain": [
       "(1, 2, 3)"
      ]
     },
     "execution_count": 3,
     "metadata": {},
     "output_type": "execute_result"
    }
   ],
   "source": [
    "anthor_t"
   ]
  },
  {
   "cell_type": "code",
   "execution_count": 4,
   "metadata": {
    "collapsed": false
   },
   "outputs": [
    {
     "name": "stdout",
     "output_type": "stream",
     "text": [
      "小火龍\n",
      "小火龍\n"
     ]
    }
   ],
   "source": [
    "tupleA = (\"妙蛙種子\", \"小火龍\", \"傑尼龜\", \"皮卡丘\")\n",
    "listA = [\"妙蛙種子\", \"小火龍\", \"傑尼龜\", \"皮卡丘\"]\n",
    "\n",
    "print(tupleA[1])\n",
    "print(listA[1])\n",
    "#一樣從0開始算個數"
   ]
  },
  {
   "cell_type": "code",
   "execution_count": 5,
   "metadata": {
    "collapsed": false
   },
   "outputs": [
    {
     "name": "stdout",
     "output_type": "stream",
     "text": [
      "['妙蛙種子', '小火龍', '傑尼龜', '迷唇姐']\n"
     ]
    }
   ],
   "source": [
    "listA = [\"妙蛙種子\", \"小火龍\", \"傑尼龜\", \"皮卡丘\"]\n",
    "listA[3] = \"迷唇姐\"\n",
    "print(listA)"
   ]
  },
  {
   "cell_type": "code",
   "execution_count": 6,
   "metadata": {
    "collapsed": false
   },
   "outputs": [
    {
     "ename": "TypeError",
     "evalue": "'type' object does not support item assignment",
     "output_type": "error",
     "traceback": [
      "\u001b[0;31m---------------------------------------------------------------------------\u001b[0m",
      "\u001b[0;31mTypeError\u001b[0m                                 Traceback (most recent call last)",
      "\u001b[0;32m<ipython-input-6-baf16e897f4c>\u001b[0m in \u001b[0;36m<module>\u001b[0;34m()\u001b[0m\n\u001b[1;32m      1\u001b[0m \u001b[0mtupleA\u001b[0m \u001b[0;34m=\u001b[0m \u001b[0;34m(\u001b[0m\u001b[0;34m\"妙蛙種子\"\u001b[0m\u001b[0;34m,\u001b[0m \u001b[0;34m\"小火龍\"\u001b[0m\u001b[0;34m,\u001b[0m \u001b[0;34m\"傑尼龜\"\u001b[0m\u001b[0;34m,\u001b[0m \u001b[0;34m\"皮卡丘\"\u001b[0m\u001b[0;34m)\u001b[0m\u001b[0;34m\u001b[0m\u001b[0m\n\u001b[0;32m----> 2\u001b[0;31m \u001b[0mtuple\u001b[0m\u001b[0;34m[\u001b[0m\u001b[0;36m4\u001b[0m\u001b[0;34m]\u001b[0m \u001b[0;34m=\u001b[0m \u001b[0;34m\"迷唇姐\"\u001b[0m\u001b[0;34m\u001b[0m\u001b[0m\n\u001b[0m\u001b[1;32m      3\u001b[0m \u001b[0mprint\u001b[0m\u001b[0;34m(\u001b[0m\u001b[0mtupleA\u001b[0m\u001b[0;34m)\u001b[0m\u001b[0;34m\u001b[0m\u001b[0m\n\u001b[1;32m      4\u001b[0m \u001b[0;31m#tuple不可作更動\u001b[0m\u001b[0;34m\u001b[0m\u001b[0;34m\u001b[0m\u001b[0m\n",
      "\u001b[0;31mTypeError\u001b[0m: 'type' object does not support item assignment"
     ]
    }
   ],
   "source": [
    "tupleA = (\"妙蛙種子\", \"小火龍\", \"傑尼龜\", \"皮卡丘\")\n",
    "tuple[4] = \"迷唇姐\"\n",
    "print(tupleA)\n",
    "#tuple不可作更動"
   ]
  },
  {
   "cell_type": "code",
   "execution_count": 32,
   "metadata": {
    "collapsed": false
   },
   "outputs": [
    {
     "name": "stdout",
     "output_type": "stream",
     "text": [
      "5\n",
      "我的第1個神奇寶貝是妙蛙種子\n",
      "我的第2個神奇寶貝是小火龍\n",
      "我的第3個神奇寶貝是傑尼龜\n",
      "我的第4個神奇寶貝是胖丁\n",
      "我的第5個神奇寶貝是皮皮\n"
     ]
    }
   ],
   "source": [
    "#課堂小練習\n",
    "\n",
    "tupleA = (\"妙蛙種子\", \"小火龍\", \"傑尼龜\", \"胖丁\", \"皮皮\")\n",
    "len(tupleA)\n",
    "print(len(tupleA))\n",
    "for i in range(len(tupleA)):\n",
    "    print(\"我的第\" + str(i+1) + \"個神奇寶貝是\" + tupleA[i])"
   ]
  },
  {
   "cell_type": "code",
   "execution_count": 9,
   "metadata": {
    "collapsed": false
   },
   "outputs": [
    {
     "name": "stdout",
     "output_type": "stream",
     "text": [
      "True\n",
      "False\n"
     ]
    }
   ],
   "source": [
    "tupleA = (\"妙蛙種子\", \"小火龍\", \"傑尼龜\", \"皮卡丘\")\n",
    "listA = [\"妙蛙種子\", \"小火龍\", \"傑尼龜\", \"皮卡丘\"]\n",
    "\n",
    "print(\"妙蛙種子\" in tupleA)\n",
    "print(\"快龍\" in tupleA)"
   ]
  },
  {
   "cell_type": "code",
   "execution_count": 10,
   "metadata": {
    "collapsed": false
   },
   "outputs": [
    {
     "name": "stdout",
     "output_type": "stream",
     "text": [
      "Hello AA BB\n"
     ]
    }
   ],
   "source": [
    "#16 tuple + %s\n",
    "\n",
    "format_A = \"Hello %s %s\"\n",
    "value_B = (\"AA\", \"BB\")\n",
    "\n",
    "print(format_A % value_B)"
   ]
  },
  {
   "cell_type": "code",
   "execution_count": 11,
   "metadata": {
    "collapsed": false
   },
   "outputs": [
    {
     "name": "stdout",
     "output_type": "stream",
     "text": [
      "Hi快給我輸入資料！！不給你\n",
      "不給你\n"
     ]
    }
   ],
   "source": [
    "#17 tuple + &s + input\n",
    "dataA = input(\"Hi快給我輸入資料！！\")\n",
    "print(dataA)"
   ]
  },
  {
   "cell_type": "code",
   "execution_count": 15,
   "metadata": {
    "collapsed": false
   },
   "outputs": [
    {
     "name": "stdout",
     "output_type": "stream",
     "text": [
      "請輸入你的年齡30\n",
      "請輸入你的職業牧師\n",
      "你是 30 歲的 牧師\n"
     ]
    }
   ],
   "source": [
    "#input + tuple\n",
    "format_A = \"你是 %s 歲的 %s\"\n",
    "dataA = input(\"請輸入你的年齡\")\n",
    "dataB = input(\"請輸入你的職業\")\n",
    "value_B = (dataA, dataB)\n",
    "print(format_A % value_B)"
   ]
  },
  {
   "cell_type": "code",
   "execution_count": 18,
   "metadata": {
    "collapsed": false
   },
   "outputs": [
    {
     "name": "stdout",
     "output_type": "stream",
     "text": [
      "['馬英九', '勇腳馬', '死亡之握']\n",
      "死亡之握\n"
     ]
    }
   ],
   "source": [
    "#list in list\n",
    "listA = [\"馬英九\", \"陳水扁\", \"宋楚瑜\"]\n",
    "multiA = [[\"馬英九\", \"勇腳馬\", \"死亡之握\"],\n",
    "          [\"陳水扁\", \"扁維拉\"],\n",
    "          [\"宋楚瑜\", \"宋神掌\"]]\n",
    "print(multiA[0])\n",
    "print(multiA[0][2])"
   ]
  },
  {
   "cell_type": "code",
   "execution_count": 20,
   "metadata": {
    "collapsed": false
   },
   "outputs": [
    {
     "name": "stdout",
     "output_type": "stream",
     "text": [
      "週一\n",
      "週二\n",
      "週三\n"
     ]
    }
   ],
   "source": [
    "# dictionary\n",
    "# dictionary就是key跟value\n",
    "week = {\"Monday\":\"週一\", \"Tuesday\":\"週二\", \"Wednesday\":\"週三\"}\n",
    "#Monday --> key\n",
    "#週一 --> value\n",
    "#type(week)\n",
    "\n",
    "print(week[\"Monday\"])\n",
    "print(week[\"Tuesday\"])\n",
    "print(week[\"Wednesday\"])"
   ]
  },
  {
   "cell_type": "code",
   "execution_count": 29,
   "metadata": {
    "collapsed": false
   },
   "outputs": [
    {
     "name": "stdout",
     "output_type": "stream",
     "text": [
      "False\n",
      "{'Tuesday': '週二', 'Wednesday': '週三', 'Thursday': '星期四'}\n",
      "True\n"
     ]
    }
   ],
   "source": [
    "week = {\"Monday\":\"週一\", \"Tuesday\":\"週二\", \"Wednesday\":\"週三\"}\n",
    "\n",
    "#新增\n",
    "week[\"Thursday\"] = \"週四\"\n",
    "#修改\n",
    "week[\"Thursday\"] = \"星期四\"\n",
    "#刪除\n",
    "del week[\"Monday\"]\n",
    "#?? in dict\n",
    "print(\"Monday\" in week)\n",
    "\n",
    "print(week)\n",
    "print(\"Tuesday\" in week)"
   ]
  },
  {
   "cell_type": "code",
   "execution_count": 31,
   "metadata": {
    "collapsed": false
   },
   "outputs": [
    {
     "name": "stdout",
     "output_type": "stream",
     "text": [
      "{'Mon': '週一', 'Tue': '週二', 'Wen': '週三'}\n"
     ]
    }
   ],
   "source": [
    "#另外一種建立字典的方式 --> 從空集合\n",
    "week = {}\n",
    "week[\"Mon\"] = \"週一\"\n",
    "week[\"Tue\"] = \"週二\"\n",
    "week[\"Wen\"] = \"週三\"\n",
    "print(week)"
   ]
  },
  {
   "cell_type": "code",
   "execution_count": 33,
   "metadata": {
    "collapsed": false
   },
   "outputs": [
    {
     "name": "stdout",
     "output_type": "stream",
     "text": [
      "Mon 週一\n",
      "Tue 週二\n",
      "Wen 週三\n"
     ]
    }
   ],
   "source": [
    "for i in week:\n",
    "    print(i, week[i])\n",
    "#i是key"
   ]
  },
  {
   "cell_type": "code",
   "execution_count": null,
   "metadata": {
    "collapsed": true
   },
   "outputs": [],
   "source": []
  }
 ],
 "metadata": {
  "kernelspec": {
   "display_name": "Python 3",
   "language": "python",
   "name": "python3"
  },
  "language_info": {
   "codemirror_mode": {
    "name": "ipython",
    "version": 3
   },
   "file_extension": ".py",
   "mimetype": "text/x-python",
   "name": "python",
   "nbconvert_exporter": "python",
   "pygments_lexer": "ipython3",
   "version": "3.6.0"
  }
 },
 "nbformat": 4,
 "nbformat_minor": 2
}
