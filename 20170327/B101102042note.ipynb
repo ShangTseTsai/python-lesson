{
 "cells": [
  {
   "cell_type": "markdown",
   "metadata": {},
   "source": [
    "# B101102042蔡尚澤 3/27上課筆記"
   ]
  },
  {
   "cell_type": "code",
   "execution_count": 1,
   "metadata": {
    "collapsed": false
   },
   "outputs": [
    {
     "name": "stdout",
     "output_type": "stream",
     "text": [
      "-1\n",
      "-1 day, 0:00:00\n"
     ]
    }
   ],
   "source": [
    "import datetime\n",
    "#專門處理時間的資料格式\n",
    "\n",
    "today = datetime.date.today()\n",
    "#today是今天的日期 2017-03-27\n",
    "\n",
    "month = 3\n",
    "day = 26\n",
    "\n",
    "birthday = datetime.date(today.year, month, day)\n",
    "#birthday 2017-03-26\n",
    "diff = birthday - today\n",
    "#\n",
    "\n",
    "print(diff.days)\n",
    "print(diff)\n",
    "#加.days可以只顯示\"天\""
   ]
  },
  {
   "cell_type": "code",
   "execution_count": 2,
   "metadata": {
    "collapsed": false
   },
   "outputs": [
    {
     "data": {
      "text/plain": [
       "datetime.date"
      ]
     },
     "execution_count": 2,
     "metadata": {},
     "output_type": "execute_result"
    }
   ],
   "source": [
    "today = datetime.date.today()\n",
    "type (today)"
   ]
  },
  {
   "cell_type": "code",
   "execution_count": 3,
   "metadata": {
    "collapsed": false
   },
   "outputs": [
    {
     "name": "stdout",
     "output_type": "stream",
     "text": [
      "2017-03-26\n"
     ]
    }
   ],
   "source": [
    "birthday = datetime.date (today.year, month, day)\n",
    "print (birthday)"
   ]
  },
  {
   "cell_type": "markdown",
   "metadata": {},
   "source": [
    "# 程式 5-1"
   ]
  },
  {
   "cell_type": "code",
   "execution_count": 4,
   "metadata": {
    "collapsed": false
   },
   "outputs": [
    {
     "name": "stdout",
     "output_type": "stream",
     "text": [
      "Today’s fruit is :TomatoTomato\n"
     ]
    }
   ],
   "source": [
    "import random\n",
    "\n",
    "fruits = [\"Apple\",\"Orange\",\"Banana\",\"Pear\", \"Tomato\"]\n",
    "\n",
    "#random.seed (5)鎖住\n",
    "\n",
    "cf = random.choice(fruits)\n",
    "df = random.choice(fruits)\n",
    "print(\"Today’s fruit is :\" + cf + df)"
   ]
  },
  {
   "cell_type": "code",
   "execution_count": 5,
   "metadata": {
    "collapsed": false
   },
   "outputs": [
    {
     "name": "stdout",
     "output_type": "stream",
     "text": [
      "Today’s fruit is :['Apple', 'Banana']\n"
     ]
    }
   ],
   "source": [
    "#要取兩個\n",
    "import random\n",
    "\n",
    "fruits = [\"Apple\",\"Orange\",\"Banana\",\"Pear\", \"Tomato\"]\n",
    "\n",
    "TTTT = random.sample (fruits, 2)\n",
    "#用Sample可以抽2個以上\n",
    "\n",
    "print (\"Today’s fruit is :\" + str(TTTT))"
   ]
  },
  {
   "cell_type": "code",
   "execution_count": 6,
   "metadata": {
    "collapsed": false
   },
   "outputs": [
    {
     "name": "stdout",
     "output_type": "stream",
     "text": [
      "請猜一個數字(0-20)：15\n",
      "你猜的數字太大了\n",
      "請猜一個數字(0-20)：10\n",
      "你猜的數字太大了\n",
      "請猜一個數字(0-20)：5\n",
      "你猜的數字太小了\n",
      "請猜一個數字(0-20)：7\n",
      "你猜的數字太小了\n",
      "請猜一個數字(0-20)：9\n",
      "你猜的數字太大了\n",
      "請猜一個數字(0-20)：8\n",
      "恭禧你，猜中了\n",
      "你總共猜了6次\n",
      "還要再玩一次嗎(Y/N)？n\n",
      "歡迎下次再來玩！\n",
      "您的成績如下：\n",
      "[6]\n",
      "平均猜中次數6.0\n"
     ]
    }
   ],
   "source": [
    "import random\n",
    "game_count = 0\n",
    "all_counts = []\n",
    "#儲存每次的猜對的數字的陣列\n",
    "\n",
    "while True:\n",
    "    game_count += 1 \n",
    "    guess_count = 0\n",
    "    answer = random.randint(0,20)\n",
    "    #randint從...的範圍隨機一個整數\n",
    "    \n",
    "    while True:\n",
    "    #強制一直執行到正確\n",
    "        guess = int(input(\"請猜一個數字(0-20)：\"))\n",
    "        guess_count += 1\n",
    "        if guess == answer:\n",
    "            print(\"恭禧你，猜中了\")\n",
    "            print(\"你總共猜了\" + str(guess_count) + \"次\")\n",
    "            all_counts.append(guess_count)\n",
    "            break;\n",
    "        elif guess > answer:\n",
    "            print(\"你猜的數字太大了\")\n",
    "        else:\n",
    "            print(\"你猜的數字太小了\")\n",
    "    \n",
    "    onemore = input(\"還要再玩一次嗎(Y/N)？\")\n",
    "    \n",
    "    if onemore != 'Y' and onemore != 'y':\n",
    "    #輸入的不是Y/y\n",
    "        \n",
    "        print(\"歡迎下次再來玩！\")\n",
    "        print(\"您的成績如下：\")\n",
    "        print(all_counts)\n",
    "        print(\"平均猜中次數\" + \\\n",
    "                str(sum(all_counts)/len(all_counts)))\n",
    "        break;\n"
   ]
  },
  {
   "cell_type": "code",
   "execution_count": 8,
   "metadata": {
    "collapsed": false
   },
   "outputs": [
    {
     "name": "stdout",
     "output_type": "stream",
     "text": [
      "請猜一個數字(0-20)：15\n",
      "只差一點點\n",
      "請猜一個數字(0-20)：16\n",
      "你猜的數字太大了\n",
      "請猜一個數字(0-20)：14\n",
      "只差一點點\n",
      "請猜一個數字(0-20)：12\n",
      "只差一點點\n",
      "請猜一個數字(0-20)：11\n",
      "只差一點點\n",
      "請猜一個數字(0-20)：10\n",
      "你猜的數字太小了\n",
      "請猜一個數字(0-20)：13\n",
      "恭禧你，猜中了\n",
      "你總共猜了7次\n",
      "還要再玩一次嗎(Y/N)？n\n",
      "歡迎下次再來玩！\n",
      "您的成績如下：\n",
      "[7]\n",
      "平均猜中次數7.0\n"
     ]
    }
   ],
   "source": [
    "#修改程式5-3,加入判斷式,如果猜測 的數字和實際的答案相差為1或2,顯示 的訊息要改為「只差一點點」。\n",
    "\n",
    "import random\n",
    "game_count = 0\n",
    "all_counts = []\n",
    "#儲存每次的猜對的數字的陣列\n",
    "\n",
    "while True:\n",
    "    game_count += 1 \n",
    "    guess_count = 0\n",
    "    answer = random.randint(0,20)\n",
    "    #randint從...的範圍隨機一個整數\n",
    "    \n",
    "    while True:\n",
    "    #強制一直執行到正確\n",
    "        guess = int(input(\"請猜一個數字(0-20)：\"))\n",
    "        guess_count += 1\n",
    "        \n",
    "        #我改了這裡\n",
    "        diff = guess - answer\n",
    "        #修改到這\n",
    "        \n",
    "        if guess == answer:\n",
    "            print(\"恭禧你，猜中了\")\n",
    "            print(\"你總共猜了\" + str(guess_count) + \"次\")\n",
    "            all_counts.append(guess_count)\n",
    "            break;\n",
    "        \n",
    "        #還改了這裡\n",
    "        elif -3 < diff < 3:\n",
    "            print (\"只差一點點\")\n",
    "        #修改到這\n",
    "        \n",
    "        elif guess > answer:\n",
    "            print(\"你猜的數字太大了\")\n",
    "        else:\n",
    "            print(\"你猜的數字太小了\")\n",
    "    \n",
    "    onemore = input(\"還要再玩一次嗎(Y/N)？\")\n",
    "    \n",
    "    if onemore != 'Y' and onemore != 'y':\n",
    "    #輸入的不是Y/y\n",
    "        \n",
    "        print(\"歡迎下次再來玩！\")\n",
    "        print(\"您的成績如下：\")\n",
    "        print(all_counts)\n",
    "        print(\"平均猜中次數\" + \\\n",
    "                str(sum(all_counts)/len(all_counts)))\n",
    "        break;\n",
    "\n"
   ]
  },
  {
   "cell_type": "code",
   "execution_count": null,
   "metadata": {
    "collapsed": true
   },
   "outputs": [],
   "source": []
  }
 ],
 "metadata": {
  "kernelspec": {
   "display_name": "Python 3",
   "language": "python",
   "name": "python3"
  },
  "language_info": {
   "codemirror_mode": {
    "name": "ipython",
    "version": 3
   },
   "file_extension": ".py",
   "mimetype": "text/x-python",
   "name": "python",
   "nbconvert_exporter": "python",
   "pygments_lexer": "ipython3",
   "version": "3.6.0"
  }
 },
 "nbformat": 4,
 "nbformat_minor": 2
}
