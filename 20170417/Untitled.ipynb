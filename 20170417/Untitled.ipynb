{
 "cells": [
  {
   "cell_type": "markdown",
   "metadata": {},
   "source": [
    "# 20170417"
   ]
  },
  {
   "cell_type": "code",
   "execution_count": 1,
   "metadata": {
    "collapsed": false
   },
   "outputs": [
    {
     "name": "stdout",
     "output_type": "stream",
     "text": [
      "['I', 'love', 'pokemon']\n",
      "['I', ' ', 'l', 'o', 'v', 'e', ' ', 'p', 'o', 'k', 'e', 'm', 'o', 'n']\n"
     ]
    }
   ],
   "source": [
    "s = \"I love pokemon\"\n",
    "A_list = s.split()#用空格切開\n",
    "B_list = list(s)#字串裡每個字母都變成一格，包括空格\n",
    "\n",
    "print(A_list)\n",
    "print(B_list)"
   ]
  },
  {
   "cell_type": "code",
   "execution_count": 2,
   "metadata": {
    "collapsed": false
   },
   "outputs": [
    {
     "name": "stdout",
     "output_type": "stream",
     "text": [
      "{'coin': 550, 'wallet': ['earphone', 'key', 'student ID'], 'backpack': {'iphone': 3, 'NB': 1, 'book': 3, 'apple': 2}}\n"
     ]
    }
   ],
   "source": [
    "#Dict\n",
    "inventary = {\n",
    "    \"coin\":500,\n",
    "    \"wallet\":[\"student ID\", \"key\"],\n",
    "    \"backpack\":{\"iphone\":2, \"NB\":1, \"book\":3, \"apple\":2}\n",
    "}\n",
    "#dict {key:value}\n",
    "#value可以是int, list, dict\n",
    "\n",
    "inventary[\"wallet\"].append(\"earphone\")\n",
    "inventary[\"wallet\"].sort()\n",
    "\n",
    "#inventary[\"backpack]是dict\n",
    "inventary[\"backpack\"][\"iphone\"] = 3\n",
    "\n",
    "#inventary[\"coin\"]是int\n",
    "inventary[\"coin\"] += 50\n",
    "\n",
    "print(inventary)"
   ]
  },
  {
   "cell_type": "code",
   "execution_count": 3,
   "metadata": {
    "collapsed": false
   },
   "outputs": [
    {
     "name": "stdout",
     "output_type": "stream",
     "text": [
      "{}\n",
      "<class 'dict'>\n"
     ]
    }
   ],
   "source": [
    "#清空字典\n",
    "inventary.clear()\n",
    "inventary = {}\n",
    "\n",
    "print(inventary)\n",
    "print(type(inventary))"
   ]
  },
  {
   "cell_type": "code",
   "execution_count": 4,
   "metadata": {
    "collapsed": false
   },
   "outputs": [
    {
     "name": "stdout",
     "output_type": "stream",
     "text": [
      "Mary的分數是95分\n",
      "班上沒有這位同學喔\n"
     ]
    }
   ],
   "source": [
    "#課堂練習\n",
    "my_dict = {'Tom':100, 'Mary':95, 'Gary':88, 'Tim':80, 'Eva':95}\n",
    "\n",
    "def check_dict(name):\n",
    "    for n in my_dict:\n",
    "        if n == name:\n",
    "            print(str(name) + \"的分數是\" + str(my_dict[n]) + \"分\")        \n",
    "            break\n",
    "    else:\n",
    "        print(\"班上沒有這位同學喔\")\n",
    "\n",
    "check_dict('Mary')\n",
    "check_dict('Sean')"
   ]
  },
  {
   "cell_type": "code",
   "execution_count": 5,
   "metadata": {
    "collapsed": false
   },
   "outputs": [
    {
     "name": "stdout",
     "output_type": "stream",
     "text": [
      "147 144\n"
     ]
    }
   ],
   "source": [
    "a = 6*7**2//2\n",
    "b = 7**2//2*6\n",
    "print(a, b)"
   ]
  },
  {
   "cell_type": "code",
   "execution_count": 6,
   "metadata": {
    "collapsed": true
   },
   "outputs": [],
   "source": [
    "#dict updat\n",
    "week = {}\n",
    "week['Monday'] = '星期一'\n",
    "week['Tuesday'] = '星期二'\n",
    "week['Wednesday']= '星期三'"
   ]
  },
  {
   "cell_type": "code",
   "execution_count": 7,
   "metadata": {
    "collapsed": true
   },
   "outputs": [],
   "source": [
    "week2 = {}\n",
    "week2['Friday'] = '週五'\n",
    "week2['Tuesday'] = '週二'"
   ]
  },
  {
   "cell_type": "code",
   "execution_count": 8,
   "metadata": {
    "collapsed": false
   },
   "outputs": [
    {
     "name": "stdout",
     "output_type": "stream",
     "text": [
      "{'Monday': '星期一', 'Tuesday': '週二', 'Wednesday': '星期三', 'Friday': '週五'}\n"
     ]
    }
   ],
   "source": [
    "# d.update(d2)\n",
    "#使用d2的內容去更新d相同的內容\n",
    "week.update(week2)\n",
    "print(week)"
   ]
  },
  {
   "cell_type": "code",
   "execution_count": 9,
   "metadata": {
    "collapsed": false
   },
   "outputs": [
    {
     "name": "stdout",
     "output_type": "stream",
     "text": [
      "A:7\n",
      "AIR:2\n",
      "AN:3\n",
      "AND:3\n",
      "AT:2\n",
      "DEVICE:2\n",
      "FLIGHT:2\n",
      "FROM:2\n",
      "GAGEY:2\n",
      "IN:3\n",
      "OF:3\n",
      "ON:2\n",
      "PLANE:2\n",
      "SAID:2\n",
      "THAT:2\n",
      "THE:11\n",
      "TO:3\n",
      "TOILET:2\n",
      "WAS:5\n"
     ]
    }
   ],
   "source": [
    "#回家作業\n",
    "\n",
    "# _*_ coding: utf-8 _*_\n",
    "# 程式 6-3.py (Python 3.x version)\n",
    "# 計算單字在文章中出現的頻率\n",
    "# 只列出出現超過一次以上的單字\n",
    "import re\n",
    "\n",
    "fp = open(\"sample.txt\", \"r\")\n",
    "article = fp.read()\n",
    "new_article = re.sub(\"[^a-zA-Z\\s]\", \"\", article)\n",
    "words = new_article.split()\n",
    "word_counts = {}\n",
    "for word in words:\n",
    "    if word.upper() in word_counts:\n",
    "        word_counts[word.upper()] = word_counts[word.upper()] + 1\n",
    "    else:\n",
    "        word_counts[word.upper()] = 1\n",
    "\n",
    "key_list = list(word_counts.keys())\n",
    "key_list.sort()\n",
    "\n",
    "for key in key_list:\n",
    "    if word_counts[key] > 1:\n",
    "        print(\"{}:{}\".format(key, word_counts[key]))"
   ]
  },
  {
   "cell_type": "code",
   "execution_count": 77,
   "metadata": {
    "collapsed": false
   },
   "outputs": [
    {
     "name": "stdout",
     "output_type": "stream",
     "text": [
      "WAS:5\n",
      "TOILET:2\n",
      "TO:3\n",
      "THE:11\n",
      "THAT:2\n",
      "SAID:2\n",
      "PLANE:2\n",
      "ON:2\n",
      "OF:3\n",
      "IN:3\n",
      "GAGEY:2\n",
      "FROM:2\n",
      "FLIGHT:2\n",
      "DEVICE:2\n",
      "AT:2\n",
      "AND:3\n",
      "AN:3\n",
      "AIR:2\n",
      "A:7\n"
     ]
    }
   ],
   "source": [
    "import re\n",
    "\n",
    "fp = open(\"sample.txt\", \"r\")\n",
    "article = fp.read()\n",
    "new_article = re.sub(\"[^a-zA-Z\\s]\", \"\", article)\n",
    "words = new_article.split()\n",
    "word_counts = {}\n",
    "for word in words:\n",
    "    if word.upper() in word_counts:\n",
    "        word_counts[word.upper()] = word_counts[word.upper()] + 1\n",
    "    else:\n",
    "        word_counts[word.upper()] = 1\n",
    "\n",
    "key_list = list(word_counts.keys())\n",
    "key_list.sort()\n",
    "\n",
    "for key in sorted(key_list, reverse = True):\n",
    "    if word_counts[key] > 1:\n",
    "        print(\"{}:{}\".format(key, word_counts[key]))"
   ]
  },
  {
   "cell_type": "code",
   "execution_count": 57,
   "metadata": {
    "collapsed": false
   },
   "outputs": [
    {
     "name": "stdout",
     "output_type": "stream",
     "text": [
      "['A', 'ADDED', 'AIR', 'AIRPORT', 'ALARM', 'ALERTED', 'ALL', 'AN', 'AND', 'AT', 'AVAILABLE', 'BOMB', 'CAPABLE', 'CARDBOARD', 'CAUSED', 'CEO', 'CITY', 'CREATING', 'DAMAGING', 'DECIDED', 'DEVICE', 'DURING', 'EMERGENCY', 'EXPLOSION', 'FALSE', 'FLIGHT', 'FLYING', 'FOUND', 'FRANCE', 'FRANCES', 'FREDERIC', 'FROM', 'GAGEY', 'HARMLESS', 'HE', 'IN', 'INDIAN', 'INDICATES', 'INFORMATION', 'ISLAND', 'IT', 'KENYAN', 'KITCHEN', 'LANDING', 'MADE', 'MAKE', 'MAURITIUS', 'MOMBASA', 'MOMENT', 'MR', 'NEAREST', 'NOT', 'OBJECT', 'OCEAN', 'OF', 'ON', 'OR', 'PAPER', 'PARIS', 'PASSENGER', 'PILOT', 'PLANE', 'POINT', 'PORT', 'PROBABLY', 'PUT', 'SAID', 'SCARE', 'SOME', 'SOMEONE', 'STAFF', 'STRANGELOOKING', 'SUNDAY', 'THAT', 'THE', 'THERE', 'THEY', 'TIMER', 'TO', 'TOILET', 'US', 'WAS', 'WHICH']\n"
     ]
    }
   ],
   "source": [
    "print(sorted(word_counts))"
   ]
  },
  {
   "cell_type": "code",
   "execution_count": 51,
   "metadata": {
    "collapsed": false
   },
   "outputs": [
    {
     "name": "stdout",
     "output_type": "stream",
     "text": [
      "['A', 'ADDED', 'AIR', 'AIRPORT', 'ALARM', 'ALERTED', 'ALL', 'AN', 'AND', 'AT', 'AVAILABLE', 'BOMB', 'CAPABLE', 'CARDBOARD', 'CAUSED', 'CEO', 'CITY', 'CREATING', 'DAMAGING', 'DECIDED', 'DEVICE', 'DURING', 'EMERGENCY', 'EXPLOSION', 'FALSE', 'FLIGHT', 'FLYING', 'FOUND', 'FRANCE', 'FRANCES', 'FREDERIC', 'FROM', 'GAGEY', 'HARMLESS', 'HE', 'IN', 'INDIAN', 'INDICATES', 'INFORMATION', 'ISLAND', 'IT', 'KENYAN', 'KITCHEN', 'LANDING', 'MADE', 'MAKE', 'MAURITIUS', 'MOMBASA', 'MOMENT', 'MR', 'NEAREST', 'NOT', 'OBJECT', 'OCEAN', 'OF', 'ON', 'OR', 'PAPER', 'PARIS', 'PASSENGER', 'PILOT', 'PLANE', 'POINT', 'PORT', 'PROBABLY', 'PUT', 'SAID', 'SCARE', 'SOME', 'SOMEONE', 'STAFF', 'STRANGELOOKING', 'SUNDAY', 'THAT', 'THE', 'THERE', 'THEY', 'TIMER', 'TO', 'TOILET', 'US', 'WAS', 'WHICH']\n"
     ]
    }
   ],
   "source": [
    "print(key_list)"
   ]
  },
  {
   "cell_type": "code",
   "execution_count": null,
   "metadata": {
    "collapsed": true
   },
   "outputs": [],
   "source": []
  }
 ],
 "metadata": {
  "kernelspec": {
   "display_name": "Python 3",
   "language": "python",
   "name": "python3"
  },
  "language_info": {
   "codemirror_mode": {
    "name": "ipython",
    "version": 3
   },
   "file_extension": ".py",
   "mimetype": "text/x-python",
   "name": "python",
   "nbconvert_exporter": "python",
   "pygments_lexer": "ipython3",
   "version": "3.6.0"
  }
 },
 "nbformat": 4,
 "nbformat_minor": 2
}
