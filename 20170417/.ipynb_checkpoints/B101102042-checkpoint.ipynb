{
 "cells": [
  {
   "cell_type": "markdown",
   "metadata": {},
   "source": [
    "# 20170417"
   ]
  },
  {
   "cell_type": "code",
   "execution_count": 1,
   "metadata": {
    "collapsed": false
   },
   "outputs": [
    {
     "name": "stdout",
     "output_type": "stream",
     "text": [
      "['I', 'love', 'pokemon']\n",
      "['I', ' ', 'l', 'o', 'v', 'e', ' ', 'p', 'o', 'k', 'e', 'm', 'o', 'n']\n"
     ]
    }
   ],
   "source": [
    "s = \"I love pokemon\"\n",
    "A_list = s.split()#用空格切開\n",
    "B_list = list(s)#字串裡每個字母都變成一格，包括空格\n",
    "\n",
    "print(A_list)\n",
    "print(B_list)"
   ]
  },
  {
   "cell_type": "code",
   "execution_count": 2,
   "metadata": {
    "collapsed": false
   },
   "outputs": [
    {
     "name": "stdout",
     "output_type": "stream",
     "text": [
      "{'coin': 550, 'wallet': ['earphone', 'key', 'student ID'], 'backpack': {'iphone': 3, 'NB': 1, 'book': 3, 'apple': 2}}\n"
     ]
    }
   ],
   "source": [
    "#Dict\n",
    "inventary = {\n",
    "    \"coin\":500,\n",
    "    \"wallet\":[\"student ID\", \"key\"],\n",
    "    \"backpack\":{\"iphone\":2, \"NB\":1, \"book\":3, \"apple\":2}\n",
    "}\n",
    "#dict {key:value}\n",
    "#value可以是int, list, dict\n",
    "\n",
    "inventary[\"wallet\"].append(\"earphone\")\n",
    "inventary[\"wallet\"].sort()\n",
    "\n",
    "#inventary[\"backpack]是dict\n",
    "inventary[\"backpack\"][\"iphone\"] = 3\n",
    "\n",
    "#inventary[\"coin\"]是int\n",
    "inventary[\"coin\"] += 50\n",
    "\n",
    "print(inventary)"
   ]
  },
  {
   "cell_type": "code",
   "execution_count": 3,
   "metadata": {
    "collapsed": false
   },
   "outputs": [
    {
     "name": "stdout",
     "output_type": "stream",
     "text": [
      "{}\n",
      "<class 'dict'>\n"
     ]
    }
   ],
   "source": [
    "#清空字典\n",
    "inventary.clear()\n",
    "inventary = {}\n",
    "\n",
    "print(inventary)\n",
    "print(type(inventary))"
   ]
  },
  {
   "cell_type": "code",
   "execution_count": 4,
   "metadata": {
    "collapsed": false
   },
   "outputs": [
    {
     "name": "stdout",
     "output_type": "stream",
     "text": [
      "Mary的分數是95分\n",
      "班上沒有這位同學喔\n"
     ]
    }
   ],
   "source": [
    "#課堂練習\n",
    "my_dict = {'Tom':100, 'Mary':95, 'Gary':88, 'Tim':80, 'Eva':95}\n",
    "\n",
    "def check_dict(name):\n",
    "    for n in my_dict:\n",
    "        if n == name:\n",
    "            print(str(name) + \"的分數是\" + str(my_dict[n]) + \"分\")        \n",
    "            break\n",
    "    else:\n",
    "        print(\"班上沒有這位同學喔\")\n",
    "\n",
    "check_dict('Mary')\n",
    "check_dict('Sean')"
   ]
  },
  {
   "cell_type": "code",
   "execution_count": 5,
   "metadata": {
    "collapsed": false
   },
   "outputs": [
    {
     "name": "stdout",
     "output_type": "stream",
     "text": [
      "147 144\n"
     ]
    }
   ],
   "source": [
    "a = 6*7**2//2\n",
    "b = 7**2//2*6\n",
    "print(a, b)"
   ]
  },
  {
   "cell_type": "code",
   "execution_count": 6,
   "metadata": {
    "collapsed": true
   },
   "outputs": [],
   "source": [
    "#dict updat\n",
    "week = {}\n",
    "week['Monday'] = '星期一'\n",
    "week['Tuesday'] = '星期二'\n",
    "week['Wednesday']= '星期三'"
   ]
  },
  {
   "cell_type": "code",
   "execution_count": 7,
   "metadata": {
    "collapsed": true
   },
   "outputs": [],
   "source": [
    "week2 = {}\n",
    "week2['Friday'] = '週五'\n",
    "week2['Tuesday'] = '週二'"
   ]
  },
  {
   "cell_type": "code",
   "execution_count": 8,
   "metadata": {
    "collapsed": false
   },
   "outputs": [
    {
     "name": "stdout",
     "output_type": "stream",
     "text": [
      "{'Monday': '星期一', 'Tuesday': '週二', 'Wednesday': '星期三', 'Friday': '週五'}\n"
     ]
    }
   ],
   "source": [
    "# d.update(d2)\n",
    "#使用d2的內容去更新d相同的內容\n",
    "week.update(week2)\n",
    "print(week)"
   ]
  },
  {
   "cell_type": "code",
   "execution_count": 9,
   "metadata": {
    "collapsed": false
   },
   "outputs": [
    {
     "name": "stdout",
     "output_type": "stream",
     "text": [
      "A:7\n",
      "AIR:2\n",
      "AN:3\n",
      "AND:3\n",
      "AT:2\n",
      "DEVICE:2\n",
      "FLIGHT:2\n",
      "FROM:2\n",
      "GAGEY:2\n",
      "IN:3\n",
      "OF:3\n",
      "ON:2\n",
      "PLANE:2\n",
      "SAID:2\n",
      "THAT:2\n",
      "THE:11\n",
      "TO:3\n",
      "TOILET:2\n",
      "WAS:5\n"
     ]
    }
   ],
   "source": [
    "# _*_ coding: utf-8 _*_\n",
    "# 程式 6-3.py (Python 3.x version)\n",
    "# 計算單字在文章中出現的頻率\n",
    "# 只列出出現超過一次以上的單字\n",
    "import re\n",
    "\n",
    "fp = open(\"sample.txt\", \"r\")\n",
    "article = fp.read()\n",
    "new_article = re.sub(\"[^a-zA-Z\\s]\", \"\", article)\n",
    "words = new_article.split()\n",
    "word_counts = {}\n",
    "for word in words:\n",
    "    if word.upper() in word_counts:\n",
    "        word_counts[word.upper()] = word_counts[word.upper()] + 1\n",
    "    else:\n",
    "        word_counts[word.upper()] = 1\n",
    "\n",
    "key_list = list(word_counts.keys())\n",
    "key_list.sort()\n",
    "\n",
    "for key in key_list:\n",
    "    if word_counts[key] > 1:\n",
    "        print(\"{}:{}\".format(key, word_counts[key]))"
   ]
  },
  {
   "cell_type": "markdown",
   "metadata": {},
   "source": [
    "## 回家作業-改以單字出現的頻率高低排序顯示"
   ]
  },
  {
   "cell_type": "code",
   "execution_count": 10,
   "metadata": {
    "collapsed": false
   },
   "outputs": [
    {
     "name": "stdout",
     "output_type": "stream",
     "text": [
      "THE:11\n",
      "A:7\n",
      "WAS:5\n",
      "AN:3\n",
      "OF:3\n",
      "TO:3\n",
      "AND:3\n",
      "IN:3\n",
      "ON:2\n",
      "AIR:2\n",
      "FLIGHT:2\n",
      "PLANE:2\n",
      "FROM:2\n",
      "DEVICE:2\n",
      "TOILET:2\n",
      "GAGEY:2\n",
      "SAID:2\n",
      "THAT:2\n",
      "AT:2\n"
     ]
    }
   ],
   "source": [
    "import re\n",
    "\n",
    "fp = open(\"sample.txt\", \"r\")\n",
    "article = fp.read()\n",
    "new_article = re.sub(\"[^a-zA-Z\\s]\", \"\", article)\n",
    "words = new_article.split()\n",
    "word_counts = {}\n",
    "for word in words:\n",
    "    if word.upper() in word_counts:\n",
    "        word_counts[word.upper()] = word_counts[word.upper()] + 1\n",
    "    else:\n",
    "        word_counts[word.upper()] = 1\n",
    "\n",
    "key_list = list(word_counts.keys())\n",
    "key_list.sort()\n",
    "#從這裡開始修改\n",
    "for key in sorted(word_counts, key = word_counts.get, reverse = True):\n",
    "#修改結束\n",
    "    if word_counts[key] > 1:\n",
    "        print(\"{}:{}\".format(key, word_counts[key]))"
   ]
  },
  {
   "cell_type": "code",
   "execution_count": 11,
   "metadata": {
    "collapsed": false
   },
   "outputs": [
    {
     "name": "stdout",
     "output_type": "stream",
     "text": [
      "5\n"
     ]
    }
   ],
   "source": [
    "print(word_counts.get(\"WAS\"))"
   ]
  },
  {
   "cell_type": "code",
   "execution_count": 12,
   "metadata": {
    "collapsed": false
   },
   "outputs": [
    {
     "data": {
      "text/plain": [
       "['THERE',\n",
       " 'BOMB',\n",
       " 'SCARE',\n",
       " 'FRANCE',\n",
       " 'SUNDAY',\n",
       " 'FLYING',\n",
       " 'INDIAN',\n",
       " 'OCEAN',\n",
       " 'ISLAND',\n",
       " 'MAURITIUS',\n",
       " 'PARIS',\n",
       " 'PASSENGER',\n",
       " 'FOUND',\n",
       " 'STRANGELOOKING',\n",
       " 'MADE',\n",
       " 'KITCHEN',\n",
       " 'TIMER',\n",
       " 'CARDBOARD',\n",
       " 'PAPER',\n",
       " 'THEY',\n",
       " 'ALERTED',\n",
       " 'STAFF',\n",
       " 'PILOT',\n",
       " 'DECIDED',\n",
       " 'MAKE',\n",
       " 'EMERGENCY',\n",
       " 'LANDING',\n",
       " 'KENYAN',\n",
       " 'PORT',\n",
       " 'CITY',\n",
       " 'MOMBASA',\n",
       " 'WHICH',\n",
       " 'NEAREST',\n",
       " 'AIRPORT',\n",
       " 'FRANCES',\n",
       " 'CEO',\n",
       " 'FREDERIC',\n",
       " 'HARMLESS',\n",
       " 'CAUSED',\n",
       " 'FALSE',\n",
       " 'ALARM',\n",
       " 'HE',\n",
       " 'SOMEONE',\n",
       " 'PROBABLY',\n",
       " 'PUT',\n",
       " 'IT',\n",
       " 'SOME',\n",
       " 'POINT',\n",
       " 'DURING',\n",
       " 'MR',\n",
       " 'ADDED',\n",
       " 'ALL',\n",
       " 'INFORMATION',\n",
       " 'AVAILABLE',\n",
       " 'US',\n",
       " 'MOMENT',\n",
       " 'INDICATES',\n",
       " 'OBJECT',\n",
       " 'NOT',\n",
       " 'CAPABLE',\n",
       " 'CREATING',\n",
       " 'EXPLOSION',\n",
       " 'OR',\n",
       " 'DAMAGING',\n",
       " 'ON',\n",
       " 'AIR',\n",
       " 'FLIGHT',\n",
       " 'PLANE',\n",
       " 'FROM',\n",
       " 'DEVICE',\n",
       " 'TOILET',\n",
       " 'GAGEY',\n",
       " 'SAID',\n",
       " 'THAT',\n",
       " 'AT',\n",
       " 'AN',\n",
       " 'OF',\n",
       " 'TO',\n",
       " 'AND',\n",
       " 'IN',\n",
       " 'WAS',\n",
       " 'A',\n",
       " 'THE']"
      ]
     },
     "execution_count": 12,
     "metadata": {},
     "output_type": "execute_result"
    }
   ],
   "source": [
    "sorted(word_counts,key=word_counts.get)"
   ]
  },
  {
   "cell_type": "code",
   "execution_count": 13,
   "metadata": {
    "collapsed": false
   },
   "outputs": [
    {
     "name": "stdout",
     "output_type": "stream",
     "text": [
      "THE:11\n",
      "A:7\n",
      "WAS:5\n",
      "AN:3\n",
      "OF:3\n",
      "TO:3\n",
      "AND:3\n",
      "IN:3\n",
      "ON:2\n",
      "AIR:2\n",
      "FLIGHT:2\n",
      "PLANE:2\n",
      "FROM:2\n",
      "DEVICE:2\n",
      "TOILET:2\n",
      "GAGEY:2\n",
      "SAID:2\n",
      "THAT:2\n",
      "AT:2\n"
     ]
    }
   ],
   "source": [
    "for key in sorted(word_counts,key=word_counts.get,reverse=True):\n",
    "    if word_counts[key] > 1:\n",
    "        print(\"{}:{}\".format(key, word_counts[key]))"
   ]
  },
  {
   "cell_type": "code",
   "execution_count": 14,
   "metadata": {
    "collapsed": false
   },
   "outputs": [
    {
     "data": {
      "text/plain": [
       "89"
      ]
     },
     "execution_count": 14,
     "metadata": {},
     "output_type": "execute_result"
    }
   ],
   "source": [
    "abs(-89)"
   ]
  },
  {
   "cell_type": "code",
   "execution_count": 15,
   "metadata": {
    "collapsed": false
   },
   "outputs": [
    {
     "name": "stdout",
     "output_type": "stream",
     "text": [
      "[-33, -5, 7, 20, 36, 90]\n",
      "[-5, 7, 20, -33, 36, 90]\n"
     ]
    }
   ],
   "source": [
    "lll=[20,-5,90,7,36,-33]\n",
    "print(sorted(lll))\n",
    "print(sorted(lll,key=abs))\n"
   ]
  },
  {
   "cell_type": "code",
   "execution_count": 16,
   "metadata": {
    "collapsed": false
   },
   "outputs": [
    {
     "name": "stdout",
     "output_type": "stream",
     "text": [
      "['CC', 'ZZ', 'aa', 'dd']\n",
      "['aa', 'CC', 'dd', 'ZZ']\n"
     ]
    }
   ],
   "source": [
    "ll=['aa','ZZ','CC','dd']\n",
    "print(sorted(ll))\n",
    "print(sorted(ll,key=str.lower))"
   ]
  },
  {
   "cell_type": "code",
   "execution_count": 17,
   "metadata": {
    "collapsed": false
   },
   "outputs": [
    {
     "name": "stdout",
     "output_type": "stream",
     "text": [
      "{'THERE': 1, 'WAS': 5, 'A': 7, 'BOMB': 1, 'SCARE': 1, 'ON': 2, 'AN': 3, 'AIR': 2, 'FRANCE': 1, 'FLIGHT': 2, 'SUNDAY': 1, 'THE': 11, 'PLANE': 2, 'FLYING': 1, 'FROM': 2, 'INDIAN': 1, 'OCEAN': 1, 'ISLAND': 1, 'OF': 3, 'MAURITIUS': 1, 'TO': 3, 'PARIS': 1, 'PASSENGER': 1, 'FOUND': 1, 'STRANGELOOKING': 1, 'DEVICE': 2, 'MADE': 1, 'KITCHEN': 1, 'TIMER': 1, 'CARDBOARD': 1, 'AND': 3, 'PAPER': 1, 'IN': 3, 'TOILET': 2, 'THEY': 1, 'ALERTED': 1, 'STAFF': 1, 'PILOT': 1, 'DECIDED': 1, 'MAKE': 1, 'EMERGENCY': 1, 'LANDING': 1, 'KENYAN': 1, 'PORT': 1, 'CITY': 1, 'MOMBASA': 1, 'WHICH': 1, 'NEAREST': 1, 'AIRPORT': 1, 'FRANCES': 1, 'CEO': 1, 'FREDERIC': 1, 'GAGEY': 2, 'SAID': 2, 'HARMLESS': 1, 'CAUSED': 1, 'FALSE': 1, 'ALARM': 1, 'HE': 1, 'THAT': 2, 'SOMEONE': 1, 'PROBABLY': 1, 'PUT': 1, 'IT': 1, 'AT': 2, 'SOME': 1, 'POINT': 1, 'DURING': 1, 'MR': 1, 'ADDED': 1, 'ALL': 1, 'INFORMATION': 1, 'AVAILABLE': 1, 'US': 1, 'MOMENT': 1, 'INDICATES': 1, 'OBJECT': 1, 'NOT': 1, 'CAPABLE': 1, 'CREATING': 1, 'EXPLOSION': 1, 'OR': 1, 'DAMAGING': 1}\n"
     ]
    }
   ],
   "source": [
    "print(word_counts)"
   ]
  },
  {
   "cell_type": "code",
   "execution_count": null,
   "metadata": {
    "collapsed": true
   },
   "outputs": [],
   "source": []
  }
 ],
 "metadata": {
  "kernelspec": {
   "display_name": "Python 3",
   "language": "python",
   "name": "python3"
  },
  "language_info": {
   "codemirror_mode": {
    "name": "ipython",
    "version": 3
   },
   "file_extension": ".py",
   "mimetype": "text/x-python",
   "name": "python",
   "nbconvert_exporter": "python",
   "pygments_lexer": "ipython3",
   "version": "3.6.0"
  }
 },
 "nbformat": 4,
 "nbformat_minor": 2
}
