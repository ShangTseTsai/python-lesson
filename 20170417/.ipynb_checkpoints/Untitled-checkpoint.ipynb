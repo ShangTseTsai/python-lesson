{
 "cells": [
  {
   "cell_type": "markdown",
   "metadata": {},
   "source": [
    "# 20170417"
   ]
  },
  {
   "cell_type": "code",
   "execution_count": null,
   "metadata": {
    "collapsed": false
   },
   "outputs": [],
   "source": [
    "s = \"I love pokemon\"\n",
    "A_list = s.split()#用空格切開\n",
    "B_list = list(s)#字串裡每個字母都變成一格，包括空格\n",
    "\n",
    "print(A_list)\n",
    "print(B_list)"
   ]
  },
  {
   "cell_type": "code",
   "execution_count": null,
   "metadata": {
    "collapsed": false
   },
   "outputs": [],
   "source": [
    "#Dict\n",
    "inventary = {\n",
    "    \"coin\":500,\n",
    "    \"wallet\":[\"student ID\", \"key\"],\n",
    "    \"backpack\":{\"iphone\":2, \"NB\":1, \"book\":3, \"apple\":2}\n",
    "}\n",
    "#dict {key:value}\n",
    "#value可以是int, list, dict\n",
    "\n",
    "inventary[\"wallet\"].append(\"earphone\")\n",
    "inventary[\"wallet\"].sort()\n",
    "\n",
    "#inventary[\"backpack]是dict\n",
    "inventary[\"backpack\"][\"iphone\"] = 3\n",
    "\n",
    "#inventary[\"coin\"]是int\n",
    "inventary[\"coin\"] += 50\n",
    "\n",
    "print(inventary)"
   ]
  },
  {
   "cell_type": "code",
   "execution_count": null,
   "metadata": {
    "collapsed": false
   },
   "outputs": [],
   "source": [
    "#清空字典\n",
    "inventary.clear()\n",
    "inventary = {}\n",
    "\n",
    "print(inventary)\n",
    "print(type(inventary))"
   ]
  },
  {
   "cell_type": "code",
   "execution_count": 3,
   "metadata": {
    "collapsed": false
   },
   "outputs": [
    {
     "name": "stdout",
     "output_type": "stream",
     "text": [
      "Mary的分數是95分\n"
     ]
    }
   ],
   "source": [
    "#課堂練習\n",
    "my_dict = {'Tom':100, 'Mary':95, 'Gary':88, 'Tim':80, 'Eva':95}\n",
    "\n",
    "def check_dict(name):\n",
    "    for n in my_dict:\n",
    "        if n == name:\n",
    "            print(str(name) + \"的分數是\" + str(my_dict[n]) + \"分\")        \n",
    "            break\n",
    "    else:\n",
    "        print(\"班上沒有這位同學喔\")\n",
    "\n",
    "check_dict('Mary')"
   ]
  },
  {
   "cell_type": "code",
   "execution_count": null,
   "metadata": {
    "collapsed": false
   },
   "outputs": [],
   "source": [
    "a = 6*7**2//2\n",
    "b = 7**2//2*6\n",
    "print(a, b)"
   ]
  },
  {
   "cell_type": "code",
   "execution_count": null,
   "metadata": {
    "collapsed": true
   },
   "outputs": [],
   "source": [
    "#dict updat\n",
    "week = {}\n",
    "week['Monday'] = '星期一'\n",
    "week['Tuesday'] = '星期二'\n",
    "week['Wednesday']= '星期三'"
   ]
  },
  {
   "cell_type": "code",
   "execution_count": null,
   "metadata": {
    "collapsed": true
   },
   "outputs": [],
   "source": [
    "week2 = {}\n",
    "week2['Friday'] = '週五'\n",
    "week2['Tuesday'] = '週二'"
   ]
  },
  {
   "cell_type": "code",
   "execution_count": null,
   "metadata": {
    "collapsed": false
   },
   "outputs": [],
   "source": [
    "# d.update(d2)\n",
    "#使用d2的內容去更新d相同的內容\n",
    "week.update(week2)\n",
    "print(week)"
   ]
  },
  {
   "cell_type": "code",
   "execution_count": null,
   "metadata": {
    "collapsed": false
   },
   "outputs": [],
   "source": [
    "#回家作業\n",
    "\n",
    "# _*_ coding: utf-8 _*_\n",
    "# 程式 6-3.py (Python 3.x version)\n",
    "# 計算單字在文章中出現的頻率\n",
    "# 只列出出現超過一次以上的單字\n",
    "import re\n",
    "\n",
    "fp = open(\"sample.txt\", \"r\")\n",
    "article = fp.read()\n",
    "new_article = re.sub(\"[^a-zA-Z\\s]\", \"\", article)\n",
    "words = new_article.split()\n",
    "word_counts = {}\n",
    "for word in words:\n",
    "    if word.upper() in word_counts:\n",
    "        word_counts[word.upper()] = word_counts[word.upper()] + 1\n",
    "    else:\n",
    "        word_counts[word.upper()] = 1\n",
    "\n",
    "key_list = list(word_counts.keys())\n",
    "key_list.sort()\n",
    "for key in key_list:\n",
    "    if word_counts[key] > 1:\n",
    "        print(\"{}:{}\".format(key, word_counts[key]))"
   ]
  },
  {
   "cell_type": "code",
   "execution_count": null,
   "metadata": {
    "collapsed": true
   },
   "outputs": [],
   "source": []
  }
 ],
 "metadata": {
  "kernelspec": {
   "display_name": "Python 3",
   "language": "python",
   "name": "python3"
  },
  "language_info": {
   "codemirror_mode": {
    "name": "ipython",
    "version": 3
   },
   "file_extension": ".py",
   "mimetype": "text/x-python",
   "name": "python",
   "nbconvert_exporter": "python",
   "pygments_lexer": "ipython3",
   "version": "3.6.0"
  }
 },
 "nbformat": 4,
 "nbformat_minor": 2
}
